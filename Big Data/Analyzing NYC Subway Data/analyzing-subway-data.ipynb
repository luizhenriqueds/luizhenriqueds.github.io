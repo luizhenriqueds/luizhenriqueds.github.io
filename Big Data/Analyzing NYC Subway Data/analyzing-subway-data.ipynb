{
 "cells": [
  {
   "cell_type": "markdown",
   "metadata": {},
   "source": [
    "# Subway Data Analysis\n",
    "\n",
    "O sistema de ônibus e trens de Nova Iorque - o Metro Transit Authority - [fornece seus dados para download](http://web.mta.info/developers/developer-data-terms.html#data) através de  arquivos CSV. Dentre as informações disponíveis estão os **registros semanais de dados das catracas do metrô**. \n",
    "\n",
    "\n",
    "Estes registros contém contagens cumulativas das entradas e saídas, normalmente agrupadas em períodos de 4 horas, com dados adicionais que permitem identificar a estação e catraca específica correspondente a cada linha do arquivo. Neste projeto iremos utilizar um desses registros, mas não precisa baixar nada agora! O primeiro exercício será escrever um código Python para fazer isso por você :-)\n",
    "\n",
    "\n"
   ]
  },
  {
   "cell_type": "markdown",
   "metadata": {},
   "source": [
    "# Sobre o dataset\n",
    "\n",
    "Descrição das colunas\n",
    "<pre>\n",
    "C/A,UNIT,SCP,STATION,LINENAME,DIVISION,DATE,TIME,DESC,ENTRIES,EXITS\n",
    "  \n",
    "C/A      = Agrupamento de catracas de que a catraca faz parte (_Control Area_)\n",
    "UNIT     = Cabine de controle associada à estação onde a catraca se encontra (_Remote Unit for a station_)\n",
    "SCP      = Endereço específico da catraca (_Subunit Channel Position_)\n",
    "STATION  = Nome da estação onde a catraca se encontra\n",
    "LINENAME = Código representando todas linhas que passam na estação*\n",
    "DIVISION = Código representando a concessionária original da linha, antes da prefeitura assumir a gestão   \n",
    "DATE     = Representa a data (no formato MM-DD-YY) do evento de auditoria agendado\n",
    "TIME     = Representa o horário (hh:mm:ss) do evento de auditoria agendado\n",
    "DESc     = Descreve o tipo de evento de auditoria registrado:\n",
    "           1. \"REGULAR\" representando um evento de auditoria padrão, em que a contagem é feita a cada 4 horas\n",
    "           2. \"RECOVR AUD\" significa que o valor específico estava perdido, mas foi recuperado posteriormente \n",
    "           3. Diversos códigos sinalizam situações em que auditorias são mais frequentes devido a atividades de\n",
    "              planejamento ou solução de problemas. \n",
    "ENTRIES  = A contagem cumulativa de entradas associadas à catraca desde o último registro\n",
    "EXITS    = A contagem cumulativa de saídas associadas à catraca desde o último registro\n",
    "\n",
    "*  Normalmente as linhas são representadas por um caractere. LINENAME 456NQR significa que os trens 4, 5, 6, N, Q e R passam pela estação.\n",
    "</pre>"
   ]
  },
  {
   "cell_type": "markdown",
   "metadata": {},
   "source": [
    "## Coleta de Dados"
   ]
  },
  {
   "cell_type": "markdown",
   "metadata": {},
   "source": [
    "## Disclamer: \n",
    "\n",
    "As vezes o servidor da MTA fica indisponível para acesso (já presenciei isso algumas vezes) e, por esse motivo, estou disponibilizando os datasets coletados via scrapping na célula abaixo. Entretanto, se for reproduzir esse projeto, recomendo que tente fazer a coleta manual dos dados, uma vez que esse processo irá agregar muito às suas habilidades!"
   ]
  },
  {
   "cell_type": "code",
   "execution_count": 36,
   "metadata": {},
   "outputs": [],
   "source": [
    "# Importing needed libraries\n",
    "import urllib.request\n",
    "from bs4 import BeautifulSoup\n",
    "\n",
    "BASE_URL = 'http://web.mta.info/developers/'\n",
    "URL = 'http://web.mta.info/developers/turnstile.html'\n",
    "BASE_PATH = 'data/'\n",
    "filename = ''\n",
    "\n",
    "def get_file_by_month(month=6, year=2017, url='', filename=''):\n",
    "    \n",
    "    '''\n",
    "        Description: This function receives the month, year, url of the datasets to be downloaded,\n",
    "        and a filename to name it.\n",
    "         \n",
    "        Args:\n",
    "            - month (int): the target month to be downloaded - 1 to 12\n",
    "            - year (int): the target year to be downloaded - e.g.: 2017, 2018, etc\n",
    "            - url (string): the endpoint URL where the files will be downloaded\n",
    "            - filename (string: the filename to save the scrapped datasets\n",
    "        \n",
    "        Returns: \n",
    "            - dataset (file): downloaded text file\n",
    "    '''\n",
    "    \n",
    "    namefile_concat = str(year)[2:] + '' +str(month)\n",
    "    u = urllib.request.urlopen(URL)\n",
    "    html = u.read()\n",
    "    soup = BeautifulSoup(html, \"html.parser\")\n",
    "    links = soup.find_all('a')\n",
    "    hrefs = [link.get('href') for link in links]\n",
    "    \n",
    "    for item in hrefs:\n",
    "        print(\"Saving file...\")\n",
    "        if item != None:\n",
    "            if (item.find(namefile_concat) != -1):\n",
    "                file_url = BASE_URL + '' + item\n",
    "                filename = file_url.split('/')[-1]\n",
    "                #print(file_url)\n",
    "                urllib.request.urlretrieve(file_url, filename)\n",
    "        \n",
    "#get_file_by_month(06, 2017, URL, filename)"
   ]
  },
  {
   "cell_type": "markdown",
   "metadata": {},
   "source": [
    "### Combinando arquivos em um *master*"
   ]
  },
  {
   "cell_type": "code",
   "execution_count": 2,
   "metadata": {
    "collapsed": true
   },
   "outputs": [
    {
     "name": "stdout",
     "output_type": "stream",
     "text": [
      "Writing file...: turnstile_170603.txt\n",
      "Writing file...: turnstile_170610.txt\n",
      "Writing file...: turnstile_170617.txt\n",
      "Writing file...: turnstile_170624.txt\n"
     ]
    }
   ],
   "source": [
    "def create_master_turnstile_file(filenames, output_file):\n",
    "    \n",
    "    '''\n",
    "        Description: This function combines the files downloaded on the previous cell to one unique master file\n",
    "        \n",
    "        Args: \n",
    "            - filenames (list): list of files downloaded\n",
    "            - output_file (string): the resulting file it'll combine the list of files passed as the first parameter \n",
    "        \n",
    "        Returns:\n",
    "            - N/A\n",
    "    '''\n",
    "    \n",
    "   \n",
    "    with open(output_file, 'w') as master_file:\n",
    "        master_file.write('C/A,UNIT,SCP,DATEn,TIMEn,DESCn,ENTRIESn,EXITSn\\n')\n",
    "        for filename in filenames:\n",
    "            with open(BASE_PATH + filename) as infile:\n",
    "                for line in infile.readlines()[1:]:\n",
    "                    master_file.write(','.join(line.split(',')[0:3] + line.split(',')[6:11]))\n",
    "            print('Writing file...: {}'.format(filename))\n",
    "        master_file.close()\n",
    "            \n",
    "            \n",
    "create_master_turnstile_file(['turnstile_170603.txt', 'turnstile_170610.txt',\n",
    "                              'turnstile_170617.txt', 'turnstile_170624.txt'], 'combined_dataset.txt')"
   ]
  },
  {
   "cell_type": "markdown",
   "metadata": {},
   "source": [
    "Filtrando o dataframe para que possua apenas linhas onde a coluna \"DESCn\" possua o valor \"Regular\".\n",
    "\n",
    "Por exemplo, se o data frame do pandas estiver conforme abaixo:\n",
    "    \n",
    "    ,C/A,UNIT,SCP,DATEn,TIMEn,DESCn,ENTRIESn,EXITSn\n",
    "    0,A002,R051,02-00-00,05-01-11,00:00:00,REGULAR,3144312,1088151\n",
    "    1,A002,R051,02-00-00,05-01-11,04:00:00,DOOR,3144335,1088159\n",
    "    2,A002,R051,02-00-00,05-01-11,08:00:00,REGULAR,3144353,1088177\n",
    "    3,A002,R051,02-00-00,05-01-11,12:00:00,DOOR,3144424,1088231\n",
    "\n",
    "O dataframe ficará conforme abaixo depois de filtrar apenas as linhas onde a coluna DESCn possua o valor REGULAR:\n",
    "\n",
    "    0,A002,R051,02-00-00,05-01-11,00:00:00,REGULAR,3144312,1088151\n",
    "    2,A002,R051,02-00-00,05-01-11,08:00:00,REGULAR,3144353,1088177"
   ]
  },
  {
   "cell_type": "code",
   "execution_count": 3,
   "metadata": {
    "collapsed": true
   },
   "outputs": [],
   "source": [
    "import pandas as pd\n",
    "\n",
    "def filter_by_regular(filename):\n",
    "    \n",
    "    '''\n",
    "        Description: create a dataframe object with the master file created previously\n",
    "        \n",
    "        Args: \n",
    "            - filename (string): the name of the combined file (master file) \n",
    "        \n",
    "        Returns:\n",
    "            - turnstile_data (dataframe): the dataframe created from the master text file\n",
    "        \n",
    "    '''\n",
    "    \n",
    "    turnstile_data = pd.read_table(filename, sep=',')\n",
    "    \n",
    "    return turnstile_data[turnstile_data['DESCn'] == 'REGULAR']\n",
    "\n",
    "turnstile_df = filter_by_regular('combined_dataset.txt')"
   ]
  },
  {
   "cell_type": "markdown",
   "metadata": {},
   "source": [
    "Os dados do metrô de NY possuem dados cumulativos de entradas e saidas por linha. Assuma que você possui um dataframe chamado df que contém apenas linhas para uma catraca em particular (unico SCP, C/A, e UNIT). A função abaixo deve alterar essas entradas cumulativas para a contagem de entradas desde a última leitura (entradas desde a última linha do dataframe).\n",
    "\n",
    "Mais especificamente, iremos fazer duas coisas na célula abaixo:\n",
    "\n",
    "1. Criar uma nova coluna chamada ENTRIESn_hourly\n",
    "\n",
    "2. Inserir nessa coluna a diferença entre ENTRIESn da linha atual e a da linha anterior. Se a linha possuir alguma NAN, preencha/substitua por 1.\n",
    "\n",
    "Exemplo de como o dataframe deve ficar ao final dessa seção:\n",
    "\n",
    "           C/A  UNIT       SCP     DATEn     TIMEn    DESCn  ENTRIESn    EXITSn  ENTRIESn_hourly\n",
    "    0     A002  R051  02-00-00  05-01-11  00:00:00  REGULAR   3144312   1088151                1\n",
    "    1     A002  R051  02-00-00  05-01-11  04:00:00  REGULAR   3144335   1088159               23\n",
    "    2     A002  R051  02-00-00  05-01-11  08:00:00  REGULAR   3144353   1088177               18\n",
    "    3     A002  R051  02-00-00  05-01-11  12:00:00  REGULAR   3144424   1088231               71\n",
    "    4     A002  R051  02-00-00  05-01-11  16:00:00  REGULAR   3144594   1088275              170\n",
    "    5     A002  R051  02-00-00  05-01-11  20:00:00  REGULAR   3144808   1088317              214\n",
    "    6     A002  R051  02-00-00  05-02-11  00:00:00  REGULAR   3144895   1088328               87\n",
    "    7     A002  R051  02-00-00  05-02-11  04:00:00  REGULAR   3144905   1088331               10\n",
    "    8     A002  R051  02-00-00  05-02-11  08:00:00  REGULAR   3144941   1088420               36\n",
    "    9     A002  R051  02-00-00  05-02-11  12:00:00  REGULAR   3145094   1088753              153\n",
    "    10    A002  R051  02-00-00  05-02-11  16:00:00  REGULAR   3145337   1088823              243"
   ]
  },
  {
   "cell_type": "code",
   "execution_count": 6,
   "metadata": {
    "collapsed": true
   },
   "outputs": [
    {
     "data": {
      "text/html": [
       "<div>\n",
       "<style scoped>\n",
       "    .dataframe tbody tr th:only-of-type {\n",
       "        vertical-align: middle;\n",
       "    }\n",
       "\n",
       "    .dataframe tbody tr th {\n",
       "        vertical-align: top;\n",
       "    }\n",
       "\n",
       "    .dataframe thead th {\n",
       "        text-align: right;\n",
       "    }\n",
       "</style>\n",
       "<table border=\"1\" class=\"dataframe\">\n",
       "  <thead>\n",
       "    <tr style=\"text-align: right;\">\n",
       "      <th></th>\n",
       "      <th>C/A</th>\n",
       "      <th>UNIT</th>\n",
       "      <th>SCP</th>\n",
       "      <th>DATEn</th>\n",
       "      <th>TIMEn</th>\n",
       "      <th>DESCn</th>\n",
       "      <th>ENTRIESn</th>\n",
       "      <th>EXITSn</th>\n",
       "      <th>ENTRIESn_hourly</th>\n",
       "    </tr>\n",
       "  </thead>\n",
       "  <tbody>\n",
       "    <tr>\n",
       "      <th>0</th>\n",
       "      <td>A002</td>\n",
       "      <td>R051</td>\n",
       "      <td>02-00-00</td>\n",
       "      <td>05/27/2017</td>\n",
       "      <td>00:00:00</td>\n",
       "      <td>REGULAR</td>\n",
       "      <td>6195217</td>\n",
       "      <td>2098317</td>\n",
       "      <td>1</td>\n",
       "    </tr>\n",
       "    <tr>\n",
       "      <th>1</th>\n",
       "      <td>A002</td>\n",
       "      <td>R051</td>\n",
       "      <td>02-00-00</td>\n",
       "      <td>05/27/2017</td>\n",
       "      <td>04:00:00</td>\n",
       "      <td>REGULAR</td>\n",
       "      <td>6195240</td>\n",
       "      <td>2098318</td>\n",
       "      <td>23</td>\n",
       "    </tr>\n",
       "    <tr>\n",
       "      <th>2</th>\n",
       "      <td>A002</td>\n",
       "      <td>R051</td>\n",
       "      <td>02-00-00</td>\n",
       "      <td>05/27/2017</td>\n",
       "      <td>08:00:00</td>\n",
       "      <td>REGULAR</td>\n",
       "      <td>6195256</td>\n",
       "      <td>2098347</td>\n",
       "      <td>16</td>\n",
       "    </tr>\n",
       "    <tr>\n",
       "      <th>3</th>\n",
       "      <td>A002</td>\n",
       "      <td>R051</td>\n",
       "      <td>02-00-00</td>\n",
       "      <td>05/27/2017</td>\n",
       "      <td>12:00:00</td>\n",
       "      <td>REGULAR</td>\n",
       "      <td>6195346</td>\n",
       "      <td>2098432</td>\n",
       "      <td>90</td>\n",
       "    </tr>\n",
       "    <tr>\n",
       "      <th>4</th>\n",
       "      <td>A002</td>\n",
       "      <td>R051</td>\n",
       "      <td>02-00-00</td>\n",
       "      <td>05/27/2017</td>\n",
       "      <td>16:00:00</td>\n",
       "      <td>REGULAR</td>\n",
       "      <td>6195518</td>\n",
       "      <td>2098491</td>\n",
       "      <td>172</td>\n",
       "    </tr>\n",
       "  </tbody>\n",
       "</table>\n",
       "</div>"
      ],
      "text/plain": [
       "    C/A  UNIT       SCP       DATEn     TIMEn    DESCn  ENTRIESn   EXITSn  \\\n",
       "0  A002  R051  02-00-00  05/27/2017  00:00:00  REGULAR   6195217  2098317   \n",
       "1  A002  R051  02-00-00  05/27/2017  04:00:00  REGULAR   6195240  2098318   \n",
       "2  A002  R051  02-00-00  05/27/2017  08:00:00  REGULAR   6195256  2098347   \n",
       "3  A002  R051  02-00-00  05/27/2017  12:00:00  REGULAR   6195346  2098432   \n",
       "4  A002  R051  02-00-00  05/27/2017  16:00:00  REGULAR   6195518  2098491   \n",
       "\n",
       "   ENTRIESn_hourly  \n",
       "0                1  \n",
       "1               23  \n",
       "2               16  \n",
       "3               90  \n",
       "4              172  "
      ]
     },
     "execution_count": 6,
     "metadata": {},
     "output_type": "execute_result"
    }
   ],
   "source": [
    "import pandas\n",
    "\n",
    "def get_hourly_entries(df):\n",
    "    \n",
    "    '''\n",
    "        Description: Get hourly entries dataframe by subtracting the number of entries per line\n",
    "\n",
    "        Args:\n",
    "            - df (dataframe): original dataframe to be modified\n",
    "        \n",
    "        Returns:\n",
    "            - df (dataframe): a new dataframe with the `ENTRIESn_hourly` column counting the number of entries per hour\n",
    "        \n",
    "    '''\n",
    "\n",
    "    df['ENTRIESn_hourly'] = df['ENTRIESn'] - df['ENTRIESn'].shift(1)\n",
    "    df['ENTRIESn_hourly'].fillna(1, inplace=True)\n",
    "    df['ENTRIESn_hourly'] = df['ENTRIESn_hourly'].astype('int')\n",
    "    return df\n",
    "\n",
    "turnstile_df = get_hourly_entries(turnstile_df)\n",
    "turnstile_df.head()"
   ]
  },
  {
   "cell_type": "markdown",
   "metadata": {},
   "source": [
    "Aplicando o processo anterior, mas agora considerando as saidas, coluna EXITSn.\n",
    "Para isso, iremos criar uma coluna chamada de EXITSn_hourly e insira a diferença entre a coluna EXITSn da linha atual versus a linha anterior. Se tiver algum NaN, preencha/substitua por 0."
   ]
  },
  {
   "cell_type": "code",
   "execution_count": 7,
   "metadata": {
    "collapsed": true
   },
   "outputs": [
    {
     "data": {
      "text/html": [
       "<div>\n",
       "<style scoped>\n",
       "    .dataframe tbody tr th:only-of-type {\n",
       "        vertical-align: middle;\n",
       "    }\n",
       "\n",
       "    .dataframe tbody tr th {\n",
       "        vertical-align: top;\n",
       "    }\n",
       "\n",
       "    .dataframe thead th {\n",
       "        text-align: right;\n",
       "    }\n",
       "</style>\n",
       "<table border=\"1\" class=\"dataframe\">\n",
       "  <thead>\n",
       "    <tr style=\"text-align: right;\">\n",
       "      <th></th>\n",
       "      <th>C/A</th>\n",
       "      <th>UNIT</th>\n",
       "      <th>SCP</th>\n",
       "      <th>DATEn</th>\n",
       "      <th>TIMEn</th>\n",
       "      <th>DESCn</th>\n",
       "      <th>ENTRIESn</th>\n",
       "      <th>EXITSn</th>\n",
       "      <th>ENTRIESn_hourly</th>\n",
       "      <th>EXITSn_hourly</th>\n",
       "    </tr>\n",
       "  </thead>\n",
       "  <tbody>\n",
       "    <tr>\n",
       "      <th>0</th>\n",
       "      <td>A002</td>\n",
       "      <td>R051</td>\n",
       "      <td>02-00-00</td>\n",
       "      <td>05/27/2017</td>\n",
       "      <td>00:00:00</td>\n",
       "      <td>REGULAR</td>\n",
       "      <td>6195217</td>\n",
       "      <td>2098317</td>\n",
       "      <td>1</td>\n",
       "      <td>0</td>\n",
       "    </tr>\n",
       "    <tr>\n",
       "      <th>1</th>\n",
       "      <td>A002</td>\n",
       "      <td>R051</td>\n",
       "      <td>02-00-00</td>\n",
       "      <td>05/27/2017</td>\n",
       "      <td>04:00:00</td>\n",
       "      <td>REGULAR</td>\n",
       "      <td>6195240</td>\n",
       "      <td>2098318</td>\n",
       "      <td>23</td>\n",
       "      <td>1</td>\n",
       "    </tr>\n",
       "    <tr>\n",
       "      <th>2</th>\n",
       "      <td>A002</td>\n",
       "      <td>R051</td>\n",
       "      <td>02-00-00</td>\n",
       "      <td>05/27/2017</td>\n",
       "      <td>08:00:00</td>\n",
       "      <td>REGULAR</td>\n",
       "      <td>6195256</td>\n",
       "      <td>2098347</td>\n",
       "      <td>16</td>\n",
       "      <td>29</td>\n",
       "    </tr>\n",
       "    <tr>\n",
       "      <th>3</th>\n",
       "      <td>A002</td>\n",
       "      <td>R051</td>\n",
       "      <td>02-00-00</td>\n",
       "      <td>05/27/2017</td>\n",
       "      <td>12:00:00</td>\n",
       "      <td>REGULAR</td>\n",
       "      <td>6195346</td>\n",
       "      <td>2098432</td>\n",
       "      <td>90</td>\n",
       "      <td>85</td>\n",
       "    </tr>\n",
       "    <tr>\n",
       "      <th>4</th>\n",
       "      <td>A002</td>\n",
       "      <td>R051</td>\n",
       "      <td>02-00-00</td>\n",
       "      <td>05/27/2017</td>\n",
       "      <td>16:00:00</td>\n",
       "      <td>REGULAR</td>\n",
       "      <td>6195518</td>\n",
       "      <td>2098491</td>\n",
       "      <td>172</td>\n",
       "      <td>59</td>\n",
       "    </tr>\n",
       "  </tbody>\n",
       "</table>\n",
       "</div>"
      ],
      "text/plain": [
       "    C/A  UNIT       SCP       DATEn     TIMEn    DESCn  ENTRIESn   EXITSn  \\\n",
       "0  A002  R051  02-00-00  05/27/2017  00:00:00  REGULAR   6195217  2098317   \n",
       "1  A002  R051  02-00-00  05/27/2017  04:00:00  REGULAR   6195240  2098318   \n",
       "2  A002  R051  02-00-00  05/27/2017  08:00:00  REGULAR   6195256  2098347   \n",
       "3  A002  R051  02-00-00  05/27/2017  12:00:00  REGULAR   6195346  2098432   \n",
       "4  A002  R051  02-00-00  05/27/2017  16:00:00  REGULAR   6195518  2098491   \n",
       "\n",
       "   ENTRIESn_hourly  EXITSn_hourly  \n",
       "0                1              0  \n",
       "1               23              1  \n",
       "2               16             29  \n",
       "3               90             85  \n",
       "4              172             59  "
      ]
     },
     "execution_count": 7,
     "metadata": {},
     "output_type": "execute_result"
    }
   ],
   "source": [
    "import pandas\n",
    "\n",
    "def get_hourly_exits(df):\n",
    "    \n",
    "    '''\n",
    "        Description: Get hourly exits dataframe by subtracting the number of exits per line\n",
    "\n",
    "        Args: \n",
    "            - df (dataframe): original dataframe to be modified\n",
    "\n",
    "        Returns: \n",
    "        - df (dataframe): a new dataframe with the `EXITSn_hourly` column counting the number of exits per hour\n",
    "        \n",
    "    '''\n",
    "    \n",
    "    df['EXITSn_hourly'] = df['EXITSn'] - df['EXITSn'].shift(1)\n",
    "    df['EXITSn_hourly'].fillna(0, inplace=True)\n",
    "    df['EXITSn_hourly'] = df['EXITSn_hourly'].astype('int')\n",
    "    \n",
    "    return df\n",
    "\n",
    "\n",
    "turnstile_df = get_hourly_exits(turnstile_df)\n",
    "turnstile_df.head()"
   ]
  },
  {
   "cell_type": "markdown",
   "metadata": {},
   "source": [
    "Dado uma variável de entrada que representa o tempo no formato de:\n",
    "     \"00:00:00\" (hora: minutos: segundos)\n",
    "    \n",
    "Nessa seção, iremos escrever uma função para extrair a parte da hora do tempo variável de entrada\n",
    "E devolva-o como um número inteiro. Por exemplo:\n",
    "         \n",
    "         1) se a hora for 00, seu código deve retornar 0\n",
    "         2) se a hora for 01, seu código deve retornar 1\n",
    "         3) se a hora for 21, seu código deve retornar 21"
   ]
  },
  {
   "cell_type": "code",
   "execution_count": 31,
   "metadata": {
    "collapsed": true
   },
   "outputs": [],
   "source": [
    "def time_to_hour(time):\n",
    "    \n",
    "    '''\n",
    "        Description: This function receives the date string, extract only the hour and returns it as an integer\n",
    "        \n",
    "        Args:\n",
    "            - time (string): time object from original dataset\n",
    "        \n",
    "        Returns: \n",
    "            - hour (int): hour extracted from date and represented as an integer\n",
    "    '''\n",
    "    \n",
    "    hour = int(time.split(':')[0])\n",
    "    return hour"
   ]
  },
  {
   "cell_type": "code",
   "execution_count": 32,
   "metadata": {},
   "outputs": [],
   "source": [
    "turnstile_df['TIME_INTn'] = turnstile_df['TIMEn'].apply(lambda row: time_to_hour(row))"
   ]
  },
  {
   "cell_type": "markdown",
   "metadata": {},
   "source": [
    "## Análise dos dados\n",
    "\n",
    "Para verificar a relação entre o movimento do metrô e o clima, precisaremos complementar os dados do arquivo já baixado com os dados do clima.\n",
    "Nós complementamos para você este arquivo com os dados de clima de Nova Iorque  e disponibilizamos na área de materiais do projeto. Você pode acessa-lo pelo link: https://s3.amazonaws.com/content.udacity-data.com/courses/ud359/turnstile_data_master_with_weather.csv\n",
    "\n",
    "Agora que temos nossos dados em um arquivo csv, vamos escrever um código python que leia este arquivo e salve-o em um data frame do pandas. "
   ]
  },
  {
   "cell_type": "code",
   "execution_count": 1,
   "metadata": {},
   "outputs": [],
   "source": [
    "import pandas as pd\n",
    "\n",
    "filename = \"turnstile_data_master_with_weather.csv\"\n",
    "\n",
    "df = pd.read_csv(filename, sep=',')"
   ]
  },
  {
   "cell_type": "markdown",
   "metadata": {},
   "source": [
    "Agora, iremos criar uma função que calcule a quantidade de dias chuvosos, para isso retorne a contagem do numero de dias onde a coluna *\"rain\"* é igual a 1."
   ]
  },
  {
   "cell_type": "code",
   "execution_count": 9,
   "metadata": {},
   "outputs": [
    {
     "data": {
      "text/plain": [
       "10"
      ]
     },
     "execution_count": 9,
     "metadata": {},
     "output_type": "execute_result"
    }
   ],
   "source": [
    "def num_rainy_days(df):\n",
    "    \n",
    "    '''\n",
    "        Description: This function extracts the number of rainy days\n",
    "        \n",
    "        Args: df (dataframe) - target dataframe\n",
    "    \n",
    "        Returns: rainy_days_count (int) - the number of rainy days on the passed dataset\n",
    "    '''\n",
    "    \n",
    "    df.rename(columns={'Unnamed: 0':'_id'}, inplace=True)\n",
    "    rainy_days_count = len(df[df['rain'] == 1].groupby('DATEn').size())    \n",
    "    return rainy_days_count\n",
    "\n",
    "num_rainy_days(df)"
   ]
  },
  {
   "cell_type": "markdown",
   "metadata": {},
   "source": [
    "Calculando se estava nebuloso ou não (0 ou 1) e a temperatura máxima para fog (isto é, a temperatura máxima \n",
    "     para dias nebulosos)."
   ]
  },
  {
   "cell_type": "code",
   "execution_count": 35,
   "metadata": {},
   "outputs": [
    {
     "data": {
      "text/plain": [
       "81.0"
      ]
     },
     "execution_count": 35,
     "metadata": {},
     "output_type": "execute_result"
    }
   ],
   "source": [
    "def max_temp_aggregate_by_fog(df):\n",
    "    \n",
    "    '''\n",
    "        Description: This function calculates the max temperature for the fog days\n",
    "        \n",
    "        Args: \n",
    "            - df (dataframe): a dataframe with the original data\n",
    "        \n",
    "        Returns: \n",
    "            - max_temperature_fog_days (float): the max temperature for the fog days\n",
    "    '''\n",
    "    max_temperature_fog_days = df[df['fog'] == 1]['maxtempi'].max()\n",
    "    return max_temperature_fog_days\n",
    "\n",
    "max_temp_aggregate_by_fog(df)"
   ]
  },
  {
   "cell_type": "markdown",
   "metadata": {},
   "source": [
    "Calculando agora a média de 'meantempi' nos dias que são sábado ou domingo (finais de semana):"
   ]
  },
  {
   "cell_type": "code",
   "execution_count": 36,
   "metadata": {
    "collapsed": true
   },
   "outputs": [
    {
     "data": {
      "text/plain": [
       "65.10066685403307"
      ]
     },
     "execution_count": 36,
     "metadata": {},
     "output_type": "execute_result"
    }
   ],
   "source": [
    "import datetime\n",
    "\n",
    "def avg_weekend_temperature(df):\n",
    "    \n",
    "    '''\n",
    "        Description: This function calculates the mean `meantempi` for the weekend\n",
    "        \n",
    "        Args:\n",
    "            - df (dataframe): a dataframe with the original data\n",
    "        \n",
    "        Returns\n",
    "            - mean_temp_weekends (float): meaan temperature for the weekends\n",
    "    \n",
    "    '''\n",
    "    \n",
    "    # Day 5 of the week\n",
    "    saturday = 5\n",
    "    \n",
    "    # Day 6 of the week\n",
    "    sunday = 6\n",
    "    \n",
    "    # Converting dates from string to date object\n",
    "    df['DATEn'] = pd.to_datetime(df['DATEn'])\n",
    "    \n",
    "    # Extracting the day of the week from each individual date entry\n",
    "    df['weekday'] = df['DATEn'].apply(lambda date: date.weekday())\n",
    "  \n",
    "    # Find the mean of ´meantempi´ for the weekends\n",
    "    mean_temp_weekends = df[(df['weekday'] == saturday) | (df['weekday'] == sunday)]['meantempi'].mean()\n",
    "    \n",
    "    return mean_temp_weekends\n",
    "\n",
    "avg_weekend_temperature(df)"
   ]
  },
  {
   "cell_type": "markdown",
   "metadata": {},
   "source": [
    "Calculando a média da temperatura mínima 'mintempi' nos dias chuvosos onde da temperatura mínima foi maior que do 55 graus:"
   ]
  },
  {
   "cell_type": "code",
   "execution_count": 37,
   "metadata": {
    "collapsed": true
   },
   "outputs": [
    {
     "data": {
      "text/plain": [
       "61.238860398860396"
      ]
     },
     "execution_count": 37,
     "metadata": {},
     "output_type": "execute_result"
    }
   ],
   "source": [
    "def avg_min_temperature(filename):\n",
    "    \n",
    "    '''\n",
    "        Description: This function calculates the mean `mintempi` for the rainy days when the temperature was higher then 55 degres\n",
    "        \n",
    "        Args:\n",
    "            - filename (dataframe): a dataframe with the original data\n",
    "        \n",
    "        Returns:\n",
    "            - avg_min_temp_rainy (flot): average `mintempi`\n",
    "        \n",
    "    '''\n",
    "\n",
    "    avg_min_temp_rainy = df[(df['rain'] == 1) & (df['mintempi'] > 55)]['mintempi'].mean()\n",
    "    \n",
    "    return avg_min_temp_rainy\n",
    "\n",
    "avg_min_temperature(df)"
   ]
  },
  {
   "cell_type": "markdown",
   "metadata": {},
   "source": [
    "Antes de realizar qualquer análise, pode ser útil olhar para os dados que esperamos analisar. Mais especificamente, vamos examinR as entradas por hora em nossos dados do metrô de Nova York para determinar a distribuição dos dados. Estes dados são armazenados na coluna ['ENTRIESn_hourly'].\n",
    "    \n",
    "Vamos plotar dois histogramas nos mesmos eixos para mostrar as entradas quando esta chovendo vs quando não está chovendo.     "
   ]
  },
  {
   "cell_type": "code",
   "execution_count": 38,
   "metadata": {
    "collapsed": true
   },
   "outputs": [
    {
     "data": {
      "text/plain": [
       "<module 'matplotlib.pyplot' from '/home/luizhsda/anaconda3/lib/python3.6/site-packages/matplotlib/pyplot.py'>"
      ]
     },
     "execution_count": 38,
     "metadata": {},
     "output_type": "execute_result"
    },
    {
     "data": {
      "image/png": "[encoded data removed]",
      "text/plain": [
       "<Figure size 1080x360 with 2 Axes>"
      ]
     },
     "metadata": {},
     "output_type": "display_data"
    }
   ],
   "source": [
    "%matplotlib inline\n",
    "import matplotlib.pyplot as plt\n",
    "import numpy as np\n",
    "import pandas\n",
    "\n",
    "def entries_histogram(turnstile_weather):\n",
    "    \n",
    "    '''\n",
    "        Description: This function plots the distribution of the number of entries for rainy days and days without rain\n",
    "        \n",
    "        Args:\n",
    "            - turnstile_weather (dataframe): a dataframe with the original data\n",
    "        \n",
    "        Returns:\n",
    "            - plt (pyplot): pyplot object with the 2 histograms to compare the data\n",
    "        \n",
    "    '''\n",
    "    \n",
    "    fig, axs = plt.subplots(1, 2, sharey=True, figsize=(15,5))\n",
    "    axs[0].hist(turnstile_weather[turnstile_weather['rain'] == 1]['ENTRIESn_hourly'], color='darkcyan') \n",
    "    axs[1].hist(turnstile_weather[turnstile_weather['rain'] == 0]['ENTRIESn_hourly'], color='darkcyan') \n",
    "    return plt\n",
    "\n",
    "entries_histogram(df)"
   ]
  },
  {
   "cell_type": "markdown",
   "metadata": {},
   "source": [
    "Os dados que acabou de plotar possuem que tipo de ditribuição? Existe diferença na distribuição entre dias chuvosos e não chuvosos?"
   ]
  },
  {
   "cell_type": "markdown",
   "metadata": {},
   "source": [
    "- Os dados possuem uma distribuição enviesado à direita (right-skewed), uma vez que a maioria das entradas estão agrupadas no canto esquerdo da distribuição, deixando uma longa \"calda\" na parte direita da distribuição (tail);\n",
    "- Em duas não-chuvosos o volume de entradas no metrô, para este dataset, é muito maior."
   ]
  },
  {
   "cell_type": "markdown",
   "metadata": {},
   "source": [
    "Vamos contruir uma função que que retorne:\n",
    "\n",
    "1. A média das entradas com chuva\n",
    "2. A média das entradas sem chuva"
   ]
  },
  {
   "cell_type": "code",
   "execution_count": 39,
   "metadata": {
    "collapsed": true
   },
   "outputs": [
    {
     "data": {
      "text/plain": [
       "(1105.4463767458733, 1090.278780151855)"
      ]
     },
     "execution_count": 39,
     "metadata": {},
     "output_type": "execute_result"
    }
   ],
   "source": [
    "import numpy as np\n",
    "\n",
    "import pandas\n",
    "\n",
    "def means(turnstile_weather):\n",
    "    \n",
    "    '''\n",
    "        Description: This function calculates the mean entries when it's raining and when it' not\n",
    "        \n",
    "        Args:\n",
    "            - turnstile_weather (dataframe): a dataframe with the original data\n",
    "        \n",
    "        Returns: \n",
    "            - with_rain_mean (float): average number of entries for rainy days\n",
    "            - without_rain_mean (float): average number of entries for days without rain\n",
    "    '''\n",
    "    \n",
    "    with_rain_mean = turnstile_weather[turnstile_weather['rain'] == 1]['ENTRIESn_hourly'].mean()\n",
    "    without_rain_mean = turnstile_weather[turnstile_weather['rain'] == 0]['ENTRIESn_hourly'].mean()\n",
    "    \n",
    "    return with_rain_mean, without_rain_mean\n",
    "\n",
    "means(df)"
   ]
  },
  {
   "cell_type": "markdown",
   "metadata": {},
   "source": [
    "1. Qual a média das entradas com chuva?\n",
    "2. Qual a média das entradas sem chuva?"
   ]
  },
  {
   "cell_type": "code",
   "execution_count": 40,
   "metadata": {},
   "outputs": [],
   "source": [
    "from IPython.display import Markdown"
   ]
  },
  {
   "cell_type": "code",
   "execution_count": 41,
   "metadata": {},
   "outputs": [
    {
     "data": {
      "text/markdown": [
       " \n",
       "** Resposta **:\n",
       "\n",
       "- A média de entradas com chuva é: 1105.4463767458733\n",
       "- A média de entradas sem chuva é: 1090.278780151855\n"
      ],
      "text/plain": [
       "<IPython.core.display.Markdown object>"
      ]
     },
     "execution_count": 41,
     "metadata": {},
     "output_type": "execute_result"
    }
   ],
   "source": [
    "Markdown(\"\"\" \n",
    "- A média de entradas com chuva é: {with_rain_mean}\n",
    "- A média de entradas sem chuva é: {without_rain_mean}\n",
    "\"\"\".format(with_rain_mean=means(df)[0], without_rain_mean=means(df)[1]))"
   ]
  },
  {
   "cell_type": "markdown",
   "metadata": {},
   "source": [
    "## Map Reduce\n",
    "\n",
    "### Mapper\n",
    "\n",
    "Varmos criar um mapeador agora. Para cada linha de entrada, a saída do mapeador deve IMPRIMIR (não retornar) a UNIT como uma chave e o número de ENTRIESn_hourly como o valor. Vamos separar a chave e o valor por uma guia. Por exemplo: 'R002 \\ t105105.0'"
   ]
  },
  {
   "cell_type": "code",
   "execution_count": 2,
   "metadata": {
    "collapsed": true
   },
   "outputs": [],
   "source": [
    "import sys\n",
    "import csv\n",
    "\n",
    "def mapper():\n",
    "    \n",
    "    '''\n",
    "        Description: Mapper function to split the original dataset and retrieve only the `UNIT` and `ENTRIESn_hourly` to pass to the reducer as a key-value dataset\n",
    "        \n",
    "        Args: N/A\n",
    "        \n",
    "        Returns: N/A\n",
    "    '''\n",
    "    \n",
    "    for idx, line in enumerate(sys.stdin):\n",
    "        if idx > 0:\n",
    "            data = line.strip().split(',')\n",
    "            _id, UNIT, DATEn, TIMEn, Hour, DESCn, ENTRIESn_hourly, EXITSn_hourly, maxpressurei, maxdewpti, mindewpti, minpressurei,meandewpti, meanpressurei, fog, rain, meanwindspdi, mintempi, meantempi, maxtempi, precipi, thunder = data\n",
    "            print(\"{0}\\t{1}\".format(UNIT, ENTRIESn_hourly))\n",
    "        \n",
    "mapper()\n",
    "sys.stdin = open('turnstile_data_master_with_weather.csv')\n",
    "sys.stdout = open('mapper_result.txt', 'r+')"
   ]
  },
  {
   "cell_type": "markdown",
   "metadata": {},
   "source": [
    "### Reducer\n",
    "\n",
    "Agora vamos criar o redutor. Dado o resultado do mapeador da seção anterior, o redutor deve imprimir(Não retornar) uma linha por UNIT, juntamente com o número total de ENTRIESn_hourly.Ao longo de maio (que é a duração dos nossos dados), separados por uma guia. Um exemplo de linha de saída do redutor pode ser assim: 'R001 \\ t500625.0'\n",
    "\n",
    "Vamos assumir que a entrada para o redutor está ordenada de tal forma que todas as linhas correspondentes a uma unidade particular são agrupados. No entanto a saida do redutor terá repetição pois existem lojas que aparecem em locais diferentes dos arquivos."
   ]
  },
  {
   "cell_type": "code",
   "execution_count": 4,
   "metadata": {
    "collapsed": true
   },
   "outputs": [],
   "source": [
    "def reducer():\n",
    "    \n",
    "    '''\n",
    "        Description: Creates a reducer to process the data passed by the mapper function\n",
    "\n",
    "        Args: N/A\n",
    "        \n",
    "        Returns: N/A\n",
    "        \n",
    "    '''\n",
    "    \n",
    "    entries_total = 0\n",
    "    old_key = None\n",
    "\n",
    "    for line in sys.stdin:\n",
    "        data = line.strip().split(\"\\t\")\n",
    "        if len(data) != 2:\n",
    "            continue\n",
    "            \n",
    "        this_key, this_entry = data\n",
    "        if old_key and old_key != this_key:\n",
    "            print (\"{0}\\t{1}\".format(old_key, entries_total))\n",
    "            old_key = this_key\n",
    "            entries_total = 0\n",
    "\n",
    "        old_key = this_key\n",
    "        entries_total += float(this_entry)\n",
    "            \n",
    "    if old_key != None:\n",
    "        print (\"{0}\\t{1}\".format(old_key, entries_total))\n",
    "\n",
    "        \n",
    "reducer()\n",
    "sys.stdin = open('mapper_result.txt')\n",
    "sys.stdout = open('reducer_result.txt', 'r+')"
   ]
  }
 ],
 "metadata": {
  "celltoolbar": "Edit Metadata",
  "kernelspec": {
   "display_name": "Python 3",
   "language": "python",
   "name": "python3"
  },
  "language_info": {
   "codemirror_mode": {
    "name": "ipython",
    "version": 3
   },
   "file_extension": ".py",
   "mimetype": "text/x-python",
   "name": "python",
   "nbconvert_exporter": "python",
   "pygments_lexer": "ipython3",
   "version": "3.6.6"
  }
 },
 "nbformat": 4,
 "nbformat_minor": 2
}
