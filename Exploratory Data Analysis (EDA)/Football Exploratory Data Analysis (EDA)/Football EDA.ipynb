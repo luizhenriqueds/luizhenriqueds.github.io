{
 "cells": [
  {
   "cell_type": "markdown",
   "metadata": {
    "_cell_guid": "05d3407c-aec7-4916-bd6c-b41e0e4ee2c9",
    "_uuid": "ec63695a983374489df2d37df7cb40f71e509fa5"
   },
   "source": [
    "### Imports and initial configuration"
   ]
  },
  {
   "cell_type": "code",
   "execution_count": null,
   "metadata": {
    "_cell_guid": "62e576b1-4584-4d6c-a5e2-0be4a08726a4",
    "_uuid": "ebf6bd2c9cf01a583022b71757e1c6a56a2fb0da"
   },
   "outputs": [],
   "source": [
    "# This Python 3 environment comes with many helpful analytics libraries installed\n",
    "# It is defined by the kaggle/python docker image: https://github.com/kaggle/docker-python\n",
    "# For example, here's several helpful packages to load in \n",
    "\n",
    "import numpy as np # linear algebra\n",
    "import pandas as pd # data processing, CSV file I/O (e.g. pd.read_csv)\n",
    "\n",
    "import random\n",
    "import seaborn as sns\n",
    "import matplotlib.pyplot as plt\n",
    "%matplotlib inline\n",
    "from plotly.offline import download_plotlyjs, init_notebook_mode, plot, iplot\n",
    "import plotly.offline as py\n",
    "py.init_notebook_mode(connected=True)\n",
    "import plotly.graph_objs as go\n",
    "\n",
    "# Input data files are available in the \"../input/\" directory.\n",
    "# For example, running this (by clicking run or pressing Shift+Enter) will list the files in the input directory\n",
    "\n",
    "from subprocess import check_output\n",
    "print(check_output([\"ls\", \"../input\"]).decode(\"utf8\"))\n",
    "\n",
    "# Any results you write to the current directory are saved as output."
   ]
  },
  {
   "cell_type": "markdown",
   "metadata": {
    "_cell_guid": "80048503-6c47-4906-897e-e62abff363bc",
    "_uuid": "0efce617768314c6dfd3d477c3788f942bf72bf9"
   },
   "source": [
    "## Data Preparation\n",
    "Preparing data to be used in this notebook. Loading and merging datasets, changing columns values and mapping encoded values to real values presented in the dictionary. "
   ]
  },
  {
   "cell_type": "markdown",
   "metadata": {
    "_cell_guid": "65875ecd-23b8-4b3a-a0cb-4b76679d782f",
    "_uuid": "f6dbef0dbea771e11c361e916fc7ad66c12c6e28"
   },
   "source": [
    "### Loading datasets"
   ]
  },
  {
   "cell_type": "code",
   "execution_count": null,
   "metadata": {
    "_cell_guid": "5d3d5fb5-d746-4dcd-b75c-fd37a141cdc2",
    "_uuid": "a5375a36f9a17779bd3720257efdc0f0f6c41020",
    "collapsed": true
   },
   "outputs": [],
   "source": [
    "## Loading events dataset\n",
    "df_events = pd.read_csv(\"../input/events.csv\")\n",
    "## Loading ginf dataset, which has some important data to merge with event dataset\n",
    "df_ginf = pd.read_csv(\"../input/ginf.csv\")\n",
    "## Selecting only the features I need. `id_odsp` serves as a unique identifier that will be used to \n",
    "## union the 2 datasets\n",
    "df_ginf = df_ginf[['id_odsp', 'date', 'league', 'season', 'country']]"
   ]
  },
  {
   "cell_type": "markdown",
   "metadata": {
    "_cell_guid": "f1b78a8a-cbd7-47f6-bb7b-e15d9174827e",
    "_uuid": "d3594fc31d075016692cf6bfd0e63dd8937ebcb2"
   },
   "source": [
    "### Preparing data"
   ]
  },
  {
   "cell_type": "code",
   "execution_count": null,
   "metadata": {
    "_cell_guid": "181fcc30-1b82-4086-b9e1-af0fd9303e9f",
    "_uuid": "a48bda433fa22d31e5a70a161069edeba37bfa56",
    "collapsed": true
   },
   "outputs": [],
   "source": [
    "## Join the 2 datasets to add 'date', 'league', 'season', and 'country' information to the main dataset\n",
    "df_events = df_events.merge(df_ginf, how='left')"
   ]
  },
  {
   "cell_type": "code",
   "execution_count": null,
   "metadata": {
    "_cell_guid": "cd78b400-e7b1-4bba-8488-0b213ede96a0",
    "_uuid": "bb10587bd06cfbd52468011f74bfdb2bc50c223c",
    "collapsed": true
   },
   "outputs": [],
   "source": [
    "## Filtering the seasons because some leagues have many more matches than others before season 2015\n",
    "df_events = df_events[df_events['season'] >= 2015]"
   ]
  },
  {
   "cell_type": "code",
   "execution_count": null,
   "metadata": {
    "_cell_guid": "affcb46c-563a-46fb-af4f-a447b23aca06",
    "_uuid": "73e992a407384e4eaa59bcf47cd3705b1bcdfa8f",
    "collapsed": true
   },
   "outputs": [],
   "source": [
    "## Naming the leagues with their popular names, which will make thinks much clear for us\n",
    "leagues = {'E0': 'Premier League', 'SP1': 'La Liga',\n",
    "          'I1': 'Serie A', 'F1': 'League One', 'D1': 'Bundesliga'}"
   ]
  },
  {
   "cell_type": "code",
   "execution_count": null,
   "metadata": {
    "_cell_guid": "024db11d-2079-4129-b9ba-7fb66d0bd4fc",
    "_kg_hide-input": false,
    "_kg_hide-output": false,
    "_uuid": "449c398d99a0920e0bdd9787b60b14241dd637f7",
    "collapsed": true
   },
   "outputs": [],
   "source": [
    "## Apply the mapping\n",
    "df_events['league'] = df_events['league'].map(leagues)"
   ]
  },
  {
   "cell_type": "markdown",
   "metadata": {
    "_cell_guid": "54d5ee68-2262-44dc-867a-19cca116fab5",
    "_uuid": "90b7915ca873cc9c27c357281cbf1d7958595a8f"
   },
   "source": [
    "### Reading dictionary to use in the charts/code"
   ]
  },
  {
   "cell_type": "code",
   "execution_count": null,
   "metadata": {
    "_cell_guid": "516c7118-6506-4bd0-8dbb-be817c7cd93a",
    "_uuid": "14b94756f9f66cbb9d4717cfb0c5eabffd41f59c",
    "collapsed": true
   },
   "outputs": [],
   "source": [
    "## Events type 1\n",
    "event_type_1 = pd.Series([\n",
    "    'Announcement',\n",
    "    'Attempt',\n",
    "    'Corner',\n",
    "    'Foul',\n",
    "    'Yellow card',\n",
    "    'Second yellow card',\n",
    "    'Red card',\n",
    "    'Substitution',\n",
    "    'Free kick won',\n",
    "    'Offside',\n",
    "    'Hand ball',\n",
    "    'Penalty conceded'], index=[[item for item in range(0, 12)]])\n",
    "\n",
    "## Events type 2\n",
    "event_type2 = pd.Series(['Key Pass', 'Failed through ball', 'Sending off', 'Own goal'],\n",
    "                       index=[[item for item in range(12, 16)]])\n",
    "\n",
    "## Match side\n",
    "side = pd.Series(['Home', 'Away'], index=[[item for item in range(1, 3)]])\n",
    "\n",
    "## Shot place\n",
    "shot_place = pd.Series([\n",
    "    'Bit too high', \n",
    "    'Blocked',\n",
    "    'Bottom left corner',\n",
    "    'Bottom right corner',\n",
    "    'Centre of the goal',\n",
    "    'High and wide',\n",
    "    'Hits the bar',\n",
    "    'Misses to the left',\n",
    "    'Misses to the right',\n",
    "    'Too high',\n",
    "    'Top centre of the goal',\n",
    "    'Top left corner',\n",
    "    'Top right corner'\n",
    "], index=[[item for item in range(1, 14)]])\n",
    "\n",
    "## Outcome of shot\n",
    "shot_outcome = pd.Series(['On target', 'Off target', 'Blocked', 'Hit the bar'],\n",
    "                        index=[[item for item in range(1, 5)]])\n",
    "## Location of shot\n",
    "location = pd.Series([\n",
    "    'Attacking half',\n",
    "    'Defensive half',\n",
    "    'Centre of the box',\n",
    "    'Left wing',\n",
    "    'Right wing',\n",
    "    'Difficult angle and long range',\n",
    "    'Difficult angle on the left',\n",
    "    'Difficult angle on the right',\n",
    "    'Left side of the box',\n",
    "    'Left side of the six yard box',\n",
    "    'Right side of the box',\n",
    "    'Right side of the six yard box',\n",
    "    'Very close range',\n",
    "    'Penalty spot',\n",
    "    'Outside the box',\n",
    "    'Long range',\n",
    "    'More than 35 yards',\n",
    "    'More than 40 yards',\n",
    "    'Not recorded'\n",
    "], \n",
    "index=[[item for item in range(1, 20)]])\n",
    "\n",
    "## Players' body part\n",
    "bodypart = pd.Series(['right foot', 'left foot', 'head'], index=[[item for item in range(1, 4)]])\n",
    "\n",
    "## Assist method\n",
    "assist_method = pd.Series(['None', 'Pass', 'Cross', 'Headed pass', 'Through ball'],\n",
    "                         index=[item for item in range(0, 5)])\n",
    "\n",
    "## Situation\n",
    "situation = pd.Series(['Open play', 'Set piece', 'Corner', 'Free kick'],\n",
    "                     index=[item for item in range(1, 5)])"
   ]
  },
  {
   "cell_type": "markdown",
   "metadata": {
    "_cell_guid": "06f06fd1-4d61-4ef0-aed0-3b5159ff043b",
    "_uuid": "8a14f2de880152119fd5ecdce47ee6e8ad20593a"
   },
   "source": [
    "## Football Exploratory Data Analysis"
   ]
  },
  {
   "cell_type": "markdown",
   "metadata": {
    "_cell_guid": "fb4c087b-6c27-4c71-921a-0bd851165d90",
    "_uuid": "b0d523a67c75fe13c7a3555f80d9115903bcd76c"
   },
   "source": [
    "### Utility function to create barplots\n",
    "We create barplots using matplotlib several times in this notebook. To reuse code to execute similar tasks, we're using this generic function to create a barplot with its parameters."
   ]
  },
  {
   "cell_type": "code",
   "execution_count": null,
   "metadata": {
    "_cell_guid": "673341a9-cb5a-4037-a24a-1478f281cef0",
    "_uuid": "96b5053482aceca34c3305fc29515bc96f409f62",
    "collapsed": true
   },
   "outputs": [],
   "source": [
    "## Utility function to plot bar plots with similar configuration\n",
    "def plot_barplot(data, x_ticks, x_labels, y_labels, title, color='muted', num=10, figsize=8):\n",
    "    ## Set standard style as whitegrid (this also could be customized via param)\n",
    "    sns.set_style(\"whitegrid\")\n",
    "    ## Set a figure with custom figsize\n",
    "    plt.figure(figsize=(num, figsize))\n",
    "    ## Plottin data\n",
    "    ax = sns.barplot(x = [j for j in range(0, len(data))], y=data.values, palette=color)\n",
    "    ## Setting ticks extracted from data indexes\n",
    "    ax.set_xticks([j for j in range(0, len(data))])\n",
    "    ## Set labels of the chart\n",
    "    ax.set_xticklabels(x_ticks, rotation=45)\n",
    "    ax.set(xlabel = x_labels, ylabel = y_labels, title = title)\n",
    "    ax.plot();\n",
    "    plt.tight_layout()"
   ]
  },
  {
   "cell_type": "markdown",
   "metadata": {
    "_cell_guid": "ec7e5d3d-ffed-43e6-9270-5b444a066b9a",
    "_uuid": "5c58de781f2f739c9510b5a20cf3c53927ae4a76"
   },
   "source": [
    "### Event types breakdown\n",
    "The occurence of the event types."
   ]
  },
  {
   "cell_type": "code",
   "execution_count": null,
   "metadata": {
    "_cell_guid": "30dd1dcf-17c1-4ac1-a44a-37f671578090",
    "_kg_hide-input": true,
    "_uuid": "8d09a5e61809341f58c84d52d92e9885cee394f1"
   },
   "outputs": [],
   "source": [
    "## Count of events occurecies\n",
    "events_series = df_events['event_type'].value_counts()\n",
    "\n",
    "## Plotting chart \n",
    "plot_barplot(events_series, event_type_1.values,\n",
    "            \"Event type\", \"Number of events\", \"Event types\", 'OrRd_r', 10, 5)"
   ]
  },
  {
   "cell_type": "markdown",
   "metadata": {
    "_cell_guid": "ff16ec95-2110-4d0a-9852-f34d512b06db",
    "_uuid": "91ce82ae52d1804bc3b58b9e8901fea57f38c035"
   },
   "source": [
    "We can see above that the three most commom events are: Announcement, Attempt, and Corner. "
   ]
  },
  {
   "cell_type": "markdown",
   "metadata": {
    "_cell_guid": "eb950841-5cf6-40d7-a712-9239cc204dee",
    "_uuid": "d338f94ae656b4d180bd14aa4d85b2e6130fe7e2"
   },
   "source": [
    "### Shot places\n",
    "What are the shot places more likely to score a goal?"
   ]
  },
  {
   "cell_type": "code",
   "execution_count": null,
   "metadata": {
    "_cell_guid": "59d66d87-ade1-4a09-bfcb-891cfcb71f53",
    "_kg_hide-input": true,
    "_uuid": "0084691d5dbc8731eee8eeb1250cfca16d6f9f90"
   },
   "outputs": [],
   "source": [
    "## Filtering out dataframe to extract attemtps which resulted in goals\n",
    "df_shot_places = df_events[(df_events['event_type'] == 1) & \n",
    "                           (df_events['is_goal'] == 1)]['shot_place'].value_counts()\n",
    "\n",
    "## Plotting the chart\n",
    "plot_barplot(df_shot_places, shot_place[[3, 4, 5, 13, 12]], 'Shot places', 'Number of events',\n",
    "    'Shot places resulting in goals', 'BuGn_r', 8, 5)"
   ]
  },
  {
   "cell_type": "markdown",
   "metadata": {
    "_cell_guid": "814565be-67b2-4a56-a36d-778e6e123484",
    "_uuid": "01cbd624a5143f42db8364fe3efe4bc75ef0fec0"
   },
   "source": [
    "We can see that the most efficient shot locations are at the bottom of the box. Also, the center of the goal should be in the third place because shots at the top are very difficult to score, even thought players try this a lot. Let's see if that's true."
   ]
  },
  {
   "cell_type": "code",
   "execution_count": null,
   "metadata": {
    "_cell_guid": "483634f3-16ff-4cad-9004-5a2a1ff41394",
    "_kg_hide-input": true,
    "_uuid": "d6d733084d4e231135723957afe786b6cd894387"
   },
   "outputs": [],
   "source": [
    "## Copying original dataframe\n",
    "df_shot_places_ed = df_events.copy()\n",
    "\n",
    "## Grouping data by shot places\n",
    "df_shot_places_ed = df_events.groupby('shot_place', as_index=False).count().sort_values('id_event',\n",
    "                                                   ascending=False).dropna()\n",
    "\n",
    "## Mapping dataframe index to shot places labels available in the dictionary file\n",
    "df_shot_places_ed['shot_place'] = df_shot_places_ed['shot_place'].map(shot_place)\n",
    "\n",
    "## Plotting the chart\n",
    "plot_barplot(df_shot_places_ed['id_event'], df_shot_places_ed['shot_place'],\n",
    "             'Shot places',\n",
    "             'Number of events',\n",
    "             'Shot places',\n",
    "             'BuGn_r', 8, 5)"
   ]
  },
  {
   "cell_type": "markdown",
   "metadata": {
    "_cell_guid": "7cd68a17-e800-4750-8e48-7c74d52f3765",
    "_uuid": "267c583b9e98cf97ee333e21edfe0907f582fea5"
   },
   "source": [
    "We can see in the chart above that the center of the goal is the third most commom shot place. However, taking into accounts only places that enconters the goal itself, we can say that the center of the goal is the most commom. "
   ]
  },
  {
   "cell_type": "markdown",
   "metadata": {
    "_cell_guid": "8d48fa1e-37cc-45cd-ab92-4b6b2dd1ae82",
    "_uuid": "834743bd231a7835334c091b5cceecd23893fd7a"
   },
   "source": [
    "### What are the most offensive player and teams?\n",
    "What are the most offensive teams in all leagues?"
   ]
  },
  {
   "cell_type": "code",
   "execution_count": null,
   "metadata": {
    "_cell_guid": "ba1ba80c-9507-440f-abf4-1dc37ada2420",
    "_kg_hide-input": true,
    "_uuid": "070fdd54e132823e7d085c9f248a533dde04ec49"
   },
   "outputs": [],
   "source": [
    "## Grouping attempts by team\n",
    "grouping_by_offensive = df_events[df_events['is_goal']==1].groupby('event_team')\n",
    "\n",
    "## Sorting the values\n",
    "grouping_by_offensive = grouping_by_offensive.count().sort_values(by='id_event', ascending=False)[:10]\n",
    "teams = grouping_by_offensive.index\n",
    "scores = grouping_by_offensive['id_event']\n",
    "\n",
    "## Plotting the teams\n",
    "plot_barplot(scores, teams, 'Teams', '# of goals', 'Most offensive teams', 'GnBu_d', 8, 6)"
   ]
  },
  {
   "cell_type": "markdown",
   "metadata": {
    "_cell_guid": "6a0d3f9c-382a-45b0-9afb-c55138bb9256",
    "_uuid": "2299ed787b989028379bbb79c5e2017ac99d64ea"
   },
   "source": [
    "It's really interesting that the leagues considered to be very competitive have the most teams on the top 10: Premier League (England) and Serie A (Italy) with 3 teams each. However, the UEFA coefficient (https://www.uefa.com/memberassociations/uefarankings/country/) considers 'La Liga' as the top league."
   ]
  },
  {
   "cell_type": "markdown",
   "metadata": {
    "_cell_guid": "e2f01e7d-7890-4e08-a049-feb5918a497b",
    "_uuid": "1bd2d1ec54f90dd11e0bb9b631f3f1d2703d6171"
   },
   "source": [
    "### Breaking down by player\n",
    "What are the most offensive players in all leagues?"
   ]
  },
  {
   "cell_type": "code",
   "execution_count": null,
   "metadata": {
    "_cell_guid": "2c906259-fc29-4b49-a004-418f08755505",
    "_kg_hide-input": true,
    "_uuid": "163b6e6a7376af9c5516a554bce5c40feb852443"
   },
   "outputs": [],
   "source": [
    "## grouping by player when is goal\n",
    "grouping_by_offensive_player = df_events[df_events['is_goal']==1].groupby('player')\n",
    "\n",
    "## Couting and sorting the number of goals by player, then pick the top 10\n",
    "grouping_by_offensive_player = grouping_by_offensive_player.count().sort_values(by='id_event',\n",
    "                                                                                ascending=False)[:10]\n",
    "## Extracting player names\n",
    "players = grouping_by_offensive_player.index\n",
    "## Extracting values (# of goals)\n",
    "scores = grouping_by_offensive_player['id_event']\n",
    "\n",
    "## Plotting the chart\n",
    "plot_barplot(scores, players, 'Players', '# of score', 'Most offensive players', 'GnBu_d', 8, 6)"
   ]
  },
  {
   "cell_type": "markdown",
   "metadata": {
    "_cell_guid": "8a93be9d-45f9-428d-925a-5f82b47183cc",
    "_uuid": "0959a57e3d000fa76fcb3419dee8ccf797e30cf1"
   },
   "source": [
    "Zlatan Ibrahimovic(*) and Pierre-emerick Aubameyang are the only players that do not play for the top 10 most offensive teams.\n",
    "\n",
    "(*) He played for Paris Saint-German until season 2016, then transfered to Manchester United, which does not appear on the most offensive teams list\n",
    "\n",
    "Barcelona is the only team which has 2 players as the most offensives if we take into account that Zlatan Ibrahimovic played for PSG and Manchester United in this interval."
   ]
  },
  {
   "cell_type": "markdown",
   "metadata": {
    "_cell_guid": "fd27c014-4aeb-42a6-9b13-9c8a4214f0b1",
    "_uuid": "54e33e4247b6588192c957f10b2609e794afcae0"
   },
   "source": [
    "### Most effective players\n",
    "This metric evaluates how much effective a players is, which means that the most effective player needs **the least number of attempts** to score a goal, and the less effective player needs **the most number of chances** to score a single goal."
   ]
  },
  {
   "cell_type": "code",
   "execution_count": null,
   "metadata": {
    "_cell_guid": "018a66f9-e151-4b3b-b2fe-0564f5045fd0",
    "_kg_hide-input": true,
    "_uuid": "b6e7c87c7e2d042fe574310304417a85fe924241"
   },
   "outputs": [],
   "source": [
    "## Grouping by player when attempt == 1\n",
    "grouped_by_player = df_events[df_events['event_type'] == 1].groupby('player').count()\n",
    "\n",
    "## Grouping by player when is goal and attempt == 1\n",
    "grouped_by_player_goals = df_events[(df_events['event_type'] == 1) &\n",
    "                             (df_events['is_goal'] == 1)].groupby('player').count()\n",
    "\n",
    "## Grouping by player when is not goal and attempt == 1\n",
    "grouped_by_player_not_goals = df_events[(df_events['event_type'] == 1) &\n",
    "                             (df_events['is_goal'] == 0)].groupby('player').count()\n",
    "\n",
    "## Setting a threshold to filter out players with a small number of attempts, which can lead to a lack \n",
    "## of consistency in the final result\n",
    "threshold = grouped_by_player['id_event'].std()\n",
    "\n",
    "grouped_by_player_is_goal = df_events[df_events['is_goal'] == 1].groupby('player').count()\n",
    "## filtering players that have at least more than average number of chances to skip noise\n",
    "## For example, a player that has 2 attempts and 1 goal has a very high effectiveness, even though,\n",
    "## this particular player has not created many chances for his team\n",
    "grouped_by_player_is_goal_filtered = grouped_by_player_goals[grouped_by_player_goals['id_event'] > threshold]\n",
    "grouped_by_players_not_goal_filtered = grouped_by_player_not_goals[grouped_by_player_not_goals['id_event'] > threshold]\n",
    "\n",
    "## Total number of attemtps\n",
    "total = grouped_by_players_not_goal_filtered['id_event'] + grouped_by_player_is_goal_filtered['id_event']\n",
    "\n",
    "## Dividing the total of attempts by the attemtps which ended up in goals\n",
    "result = total/grouped_by_player_is_goal_filtered['id_event']\n",
    "\n",
    "## Dropping NaN values\n",
    "result.dropna(inplace=True)\n",
    "\n",
    "## Sorting results\n",
    "sorted_results = result.sort_values(ascending=True)\n",
    "\n",
    "## Extracting players names\n",
    "players = sorted_results[:10].index\n",
    "## Extracting value of effectiveness\n",
    "effectiveness = sorted_results[:10]\n",
    "\n",
    "## Plotting results\n",
    "plot_barplot(effectiveness, players, 'Players', \n",
    "            '# of shots needed to score a goal',\n",
    "            'Most effective players',\n",
    "            'RdBu_r', 8, 6)"
   ]
  },
  {
   "cell_type": "markdown",
   "metadata": {
    "_cell_guid": "a4d5a1e9-389a-46fa-87c1-8facbf1fd134",
    "_uuid": "f51812b1011d95671f48b6ba3530bb40eb615cac"
   },
   "source": [
    "We can see that Alexandre Lacazette is the most effective player. He scores the most number of goals **proportionately** to the number of attempts he has. "
   ]
  },
  {
   "cell_type": "markdown",
   "metadata": {
    "_cell_guid": "d89014b5-6d71-4323-8b8a-a8124d42fb6f",
    "_uuid": "8fb3eaa522e08d2fd776386f70cc85f62c38f29e"
   },
   "source": [
    "### Another perspective of the same data\n",
    "\n",
    "We can see it at a different angle. "
   ]
  },
  {
   "cell_type": "code",
   "execution_count": null,
   "metadata": {
    "_cell_guid": "430ea291-fde2-4ee0-a282-e0fb944dfda1",
    "_kg_hide-input": true,
    "_uuid": "f63982000ddab1e323ccbb439021909637a54097"
   },
   "outputs": [],
   "source": [
    "## Creating a dataframe with total of attempts and total goals\n",
    "result_df = pd.DataFrame({'total': total.dropna(), 'is_goal': grouped_by_player_is_goal_filtered['id_event']})\n",
    "## Sorting values by total\n",
    "result_df.sort_values('total', ascending=False, inplace=True)\n",
    "\n",
    "## Setting style to dark\n",
    "sns.set(style=\"darkgrid\")\n",
    "\n",
    "## Creating figure\n",
    "f, ax = plt.subplots(figsize=(10, 6))\n",
    "\n",
    "## Plotting chart\n",
    "sns.set_color_codes(\"pastel\")\n",
    "sns.barplot(x=\"total\",\n",
    "            y=result_df.index,\n",
    "            data=result_df,\n",
    "            label=\"# of attempts\", color=\"b\")\n",
    "\n",
    "sns.set_color_codes(\"muted\")\n",
    "sns.barplot(x='is_goal',\n",
    "            y=result_df.index, \n",
    "            data=result_df,\n",
    "            label=\"# of goals\", color=\"b\")\n",
    "\n",
    "ax.legend(ncol=2, loc=\"lower right\", frameon=True)\n",
    "ax.set(ylabel=\"Players\",\n",
    "       xlabel=\"Number of goals x attempts\", title='Player effectiveness')\n",
    "\n",
    "each = result_df['is_goal'].values\n",
    "the_total = result_df['total'].values\n",
    "x_position = 50\n",
    "\n",
    "for i in range(len(ax.patches[:15])):\n",
    "    ax.text(ax.patches[i].get_width() - x_position, ax.patches[i].get_y() +.50, \n",
    "            str(round((each[i]/the_total[i])*100, 2))+'%')\n",
    "    \n",
    "sns.despine(left=True, bottom=True)\n",
    "f.tight_layout()"
   ]
  },
  {
   "cell_type": "markdown",
   "metadata": {
    "_cell_guid": "d3dc70e6-9f06-44cc-91f4-528557648bb1",
    "_uuid": "c808426334a9bd0f0fe7be0eb68aa9e0c82c84d4"
   },
   "source": [
    "This chart also shows the players effectiveness from different perspective. We can still see that Alexandre Lacazette and Luis Suarez have the most effectiveness, but if we compare to the number of attempts of Cristiano Ronaldo and Lionel Messi, we can easily see why they have been considered the best for many years: **consistency**. It's difficult to imagine that Lacazette and Suarez will keep this performance every season. \n",
    "So, for example, if we define a threshold line in Zatlan Ibrahimovic, only him and Lionel Messi (28%) achieve more than 20% effectiveness. On the other hand, bellow this threshold, about 87% of the players achieved more than 20% of effectiveness. "
   ]
  },
  {
   "cell_type": "markdown",
   "metadata": {
    "_cell_guid": "f2e3824f-a5a9-4131-9b1e-b0408adcf368",
    "_uuid": "aae5e6709c4d1d54e628a23fb70e0dd7a972f157"
   },
   "source": [
    "### Top first & last minute scorers\n",
    "In this section, we are analysing the teams that scored most goals in the first 15 minutes of the matches, and in the last 15 minutes of the matches."
   ]
  },
  {
   "cell_type": "code",
   "execution_count": null,
   "metadata": {
    "_cell_guid": "0b377bd6-2e0b-490f-8aba-76a5c6752444",
    "_kg_hide-input": true,
    "_uuid": "afc52476741d647df80c1778a77d1f2b022dad37"
   },
   "outputs": [],
   "source": [
    "## Filtering out events with time <= 15'\n",
    "first_15 = df_events[df_events['time'] <= 15]\n",
    "## Filtering out events with time between 75' and 90'\n",
    "last_15 = df_events[(df_events['time'] >= 75) & (df_events['time'] <= 90)]\n",
    "\n",
    "## Grouping by teams for the first 15'\n",
    "top_10_scorer_first_15 = first_15[first_15['is_goal'] == 1].groupby('event_team').count().sort_values(by='id_event', ascending=False)\n",
    "\n",
    "## Extracting teams from dataframe\n",
    "teams = top_10_scorer_first_15.index[:10]\n",
    "## Extracting number of goals \n",
    "scores = top_10_scorer_first_15['id_event'][:10]\n",
    "\n",
    "## Plotting results\n",
    "sns.set_style(\"whitegrid\")\n",
    "fig, axs = plt.subplots(ncols=2, figsize=(15, 6))\n",
    "ax = sns.barplot(x = [j for j in range(0, len(scores))], y=scores.values, palette='Blues_d', ax=axs[0])\n",
    "ax.set_xticks([j for j in range(0, len(scores))])\n",
    "ax.set_xticklabels(teams, rotation=45)\n",
    "ax.set(xlabel = 'Teams', ylabel = '# of goals', title = 'Most goals in the 1st 15 minutes');\n",
    "\n",
    "## Grouping by last 15' scorers\n",
    "top_10_scorer_last_15 = last_15[last_15['is_goal'] == 1].groupby('event_team').count().sort_values(by='id_event', ascending=False)[:10]\n",
    "\n",
    "## Extracting the names of the teams\n",
    "teams_last_15 = top_10_scorer_last_15.index[:10]\n",
    "## Extracting the number of goals\n",
    "scores_last_15 = top_10_scorer_last_15['id_event'][:10]\n",
    "\n",
    "## Plottin the results\n",
    "ax = sns.barplot(x = [j for j in range(0, len(scores_last_15))], y=scores_last_15.values, palette='Blues_d', ax=axs[1])\n",
    "ax.set_xticks([j for j in range(0, len(scores_last_15))])\n",
    "ax.set_xticklabels(teams_last_15, rotation=45)\n",
    "ax.set(xlabel = 'Teams', ylabel = '# of goals', title = 'Most goals in the last 15 minutes');\n",
    "fig.tight_layout()"
   ]
  },
  {
   "cell_type": "markdown",
   "metadata": {
    "_cell_guid": "b0c3de0b-3da8-4bd8-bc43-aa56a56892f7",
    "_uuid": "932fdef1a4d95f3fea5f305c1930be0f45d13e68"
   },
   "source": [
    "Real Madrid appeared in both lists: the teams that scored the most goals in the beginning of the match and in the end of the match. 100% focus from the beginning until the end facing this team."
   ]
  },
  {
   "cell_type": "markdown",
   "metadata": {
    "_cell_guid": "2333302e-93d0-4680-918f-60409ddd7a91",
    "_uuid": "804d93c5115448a451969a0f020dbfb453de63c2"
   },
   "source": [
    "### Last minute goals by player\n",
    "Breaking down the analysis by player. Which player can be considered the most 'decisive' player?"
   ]
  },
  {
   "cell_type": "code",
   "execution_count": null,
   "metadata": {
    "_cell_guid": "657fb4eb-996a-46e2-9f9c-d4f80dad096a",
    "_kg_hide-input": true,
    "_uuid": "adecabf48720106ede8601bcc5960529b2a2bfab"
   },
   "outputs": [],
   "source": [
    "## Last minute goals\n",
    "last_minute_goals = df_events[(df_events['time'] >= 90) &\n",
    "                             (df_events['time'] <= 95)]\n",
    "\n",
    "## Last minute scores by team, league, opponent, and players\n",
    "top_last_minute_scores = last_minute_goals[last_minute_goals['is_goal'] == 1].groupby(['event_team', 'league']).count().sort_values(by='id_event', ascending=False)\n",
    "top_last_minute_scored = last_minute_goals[last_minute_goals['is_goal'] == 1].groupby('opponent').count().sort_values(by='id_event', ascending=False)\n",
    "top_last_minute_scores_by_player = last_minute_goals[last_minute_goals['is_goal'] == 1].groupby('player').count().sort_values(by='id_event', ascending=False)\n",
    "\n",
    "## Plotting the last minute goals by players\n",
    "plot_barplot(top_last_minute_scores_by_player['id_event'][:10],\n",
    "            top_last_minute_scores_by_player.index[:10],\n",
    "            'Players',\n",
    "            '# of goals',\n",
    "            'Last minute goals by player',\n",
    "            'Reds_r', 8, 5)"
   ]
  },
  {
   "cell_type": "markdown",
   "metadata": {
    "_cell_guid": "1de640fe-bf49-4c9f-86e7-3a4a7f3d6aca",
    "_uuid": "1449674cad22f29f070a418fec6b4e6b20408073"
   },
   "source": [
    "5 players on this list play on Premier League. Interesting, isn't it?"
   ]
  },
  {
   "cell_type": "markdown",
   "metadata": {
    "_cell_guid": "59163455-c641-4bd2-8edc-31a0b4f64b41",
    "_uuid": "d59ea41be66c850c10cd29927063885f7792dd8a"
   },
   "source": [
    "### Last minute goals breakdown by league\n",
    "Which teams have scored the most number of goals by league?"
   ]
  },
  {
   "cell_type": "code",
   "execution_count": null,
   "metadata": {
    "_cell_guid": "dbdb1e8b-b3cc-44af-b546-a1de8f307ed1",
    "_kg_hide-input": true,
    "_uuid": "427bfdbd65b3ea637a20a26856fa2e2857aba583"
   },
   "outputs": [],
   "source": [
    "## Reseting index\n",
    "top_last_minute_scores.reset_index(inplace=True)\n",
    "\n",
    "## Filtering out dataframe by league\n",
    "top_5_scorer_league_one = top_last_minute_scores[top_last_minute_scores['league'] == 'League One'][:5]\n",
    "top_5_scorer_premier_league = top_last_minute_scores[top_last_minute_scores['league'] == 'Premier League'][:5]\n",
    "top_5_scorer_la_liga = top_last_minute_scores[top_last_minute_scores['league'] == 'La Liga'][:5]\n",
    "top_5_scorer_serie_a = top_last_minute_scores[top_last_minute_scores['league'] == 'Serie A'][:5]\n",
    "top_5_scorer_bundesliga = top_last_minute_scores[top_last_minute_scores['league'] == 'Bundesliga'][:5]\n",
    "\n",
    "## Plotting the chart\n",
    "fig, axs = plt.subplots(nrows=2, ncols=3, figsize=(15, 8))\n",
    "ax = sns.barplot(x = [j for j in range(0, len(top_5_scorer_league_one['id_event']))],\n",
    "                 y=top_5_scorer_league_one['id_event'].values,\n",
    "                 palette='Reds_r', ax=axs[0][0])\n",
    "ax.set_xticks([j for j in range(0, len(top_5_scorer_league_one['id_event']))])\n",
    "ax.set_xticklabels(top_5_scorer_league_one['event_team'], rotation=45)\n",
    "ax.set(xlabel = 'Teams', ylabel = '# of goals', title = 'League One');\n",
    "\n",
    "ax = sns.barplot(x = [j for j in range(0, len(top_5_scorer_premier_league['id_event']))],\n",
    "                 y=top_5_scorer_premier_league['id_event'].values,\n",
    "                 palette='Reds_r', ax=axs[0][1])\n",
    "ax.set_xticks([j for j in range(0, len(top_5_scorer_premier_league['id_event']))])\n",
    "ax.set_xticklabels(top_5_scorer_premier_league['event_team'], rotation=45)\n",
    "ax.set(xlabel = 'Teams', ylabel = '# of goals', title = 'Premiere League');\n",
    "\n",
    "ax = sns.barplot(x = [j for j in range(0, len(top_5_scorer_la_liga['id_event']))],\n",
    "                 y=top_5_scorer_la_liga['id_event'].values,\n",
    "                 palette='Reds_r', ax=axs[0][2])\n",
    "ax.set_xticks([j for j in range(0, len(top_5_scorer_la_liga['id_event']))])\n",
    "ax.set_xticklabels(top_5_scorer_la_liga['event_team'], rotation=45)\n",
    "ax.set(xlabel = 'Teams', ylabel = '# of goals', title = 'La Liga');\n",
    "\n",
    "ax = sns.barplot(x = [j for j in range(0, len(top_5_scorer_serie_a['id_event']))],\n",
    "                 y=top_5_scorer_serie_a['id_event'].values,\n",
    "                 palette='Reds_r', ax=axs[1][0])\n",
    "ax.set_xticks([j for j in range(0, len(top_5_scorer_serie_a['id_event']))])\n",
    "ax.set_xticklabels(top_5_scorer_serie_a['event_team'], rotation=45)\n",
    "ax.set(xlabel = 'Teams', ylabel = '# of goals', title = 'Serie A');\n",
    "\n",
    "ax = sns.barplot(x = [j for j in range(0, len(top_5_scorer_bundesliga['id_event']))],\n",
    "                 y=top_5_scorer_bundesliga['id_event'].values,\n",
    "                 palette='Reds_r', ax=axs[1][1])\n",
    "ax.set_xticks([j for j in range(0, len(top_5_scorer_bundesliga['id_event']))])\n",
    "ax.set_xticklabels(top_5_scorer_bundesliga['event_team'], rotation=45)\n",
    "ax.set(xlabel = 'Teams', ylabel = '# of goals', title = 'Bundesliga');\n",
    "\n",
    "axs[1][2].axis('off')\n",
    "\n",
    "fig.tight_layout()"
   ]
  },
  {
   "cell_type": "markdown",
   "metadata": {
    "_cell_guid": "c9f9cf28-6d32-48ec-8725-a306da5d970d",
    "_uuid": "00784f5259a85da5e0c24b87e13589cff540b1bc"
   },
   "source": [
    "Monaco, Arsenal, Real Madrid, Lazio, and Borussia Dortmund. Something important to note is that in the most leagues, the main team is not the top last minute scorer. Examples: League One, Serie A, and Bundesliga. I am not taking into account Premiere League because there are many comparable teams. "
   ]
  },
  {
   "cell_type": "markdown",
   "metadata": {
    "_cell_guid": "c7922650-d2df-474b-b740-cf3079149eaf",
    "_uuid": "9bdc9b712729f1125eda0ae3a6b88b1e7569fd28"
   },
   "source": [
    "### Shot outcome\n",
    "Analyzing the shot outcomes in different leagues."
   ]
  },
  {
   "cell_type": "code",
   "execution_count": null,
   "metadata": {
    "_cell_guid": "42b9a604-b10c-4588-bcf7-20519bed77bc",
    "_kg_hide-input": true,
    "_uuid": "f0f96050ca614e18ca189a9499e9110fd1ad3f4e"
   },
   "outputs": [],
   "source": [
    "## Copying original dataset\n",
    "df_shot_outcome = df_events.copy()\n",
    "## Mapping shot outcomes to original labels\n",
    "shot_outcomes = {1: 'On Target', 2: 'Off Target', 3: 'Blocked', 4: 'Hit the Bar'}\n",
    "df_shot_outcome['shot_outcome'] = df_shot_outcome['shot_outcome'].map(shot_outcome)\n",
    "\n",
    "## Plotting the chart\n",
    "g = sns.FacetGrid(df_shot_outcome, col=\"shot_outcome\")\n",
    "g = g.map(plt.hist, 'league', color=\"r\")\n",
    "g.set_xticklabels(rotation=45)\n",
    "g.set_ylabels('# of attempts');"
   ]
  },
  {
   "cell_type": "markdown",
   "metadata": {
    "_cell_guid": "adb71d07-0636-48ef-b8ac-5bb55caf4c2f",
    "_uuid": "43ca40fceef13687cc701859866b24182673fc22"
   },
   "source": [
    "* Serie A has the most number of attempts off target.\n",
    "* Premier league and Serie A have the most number of shots on target.\n",
    "* Premier league has the most number of shots bocked among all leagues."
   ]
  },
  {
   "cell_type": "markdown",
   "metadata": {
    "_cell_guid": "90fb0f33-dd33-40a2-ae14-d0e17474adad",
    "_uuid": "4023ebd9b3599a5578bfc69019a6584f890eac99"
   },
   "source": [
    "### Most accurate and les accurate players\n",
    "Players whose shots are more likely to go on target (most accurate) and off target (less accurate)."
   ]
  },
  {
   "cell_type": "code",
   "execution_count": null,
   "metadata": {
    "_cell_guid": "e5f6480d-e599-430f-a7dc-6ec2e3d7cea1",
    "_kg_hide-input": true,
    "_uuid": "f9a339279bcdb5c97771f01f64c60d297eb22cde"
   },
   "outputs": [],
   "source": [
    "## Total number of attempts on target\n",
    "total_events = df_events[(df_events['event_type'] == 1) &\n",
    "         ((df_events['shot_outcome'] == 1) |\n",
    "         (df_events['shot_outcome'] == 2))].groupby('player').count()\n",
    "         \n",
    "## Using the threshold to filter out players with fewer events\n",
    "total_events = total_events[total_events['id_event'] > threshold]\n",
    "\n",
    "## How many of those attempt events were actually on target\n",
    "on_target_events = df_events[(df_events['event_type'] == 1) &\n",
    "         (df_events['shot_outcome'] == 1)].groupby('player').count()\n",
    "\n",
    "threshold = 100\n",
    "\n",
    "## Filtering out the result\n",
    "total_events = total_events[total_events['id_event'] > threshold]\n",
    "\n",
    "## Dividing the number of attemps by the attempts on target\n",
    "on_target = on_target_events['id_event']/total_events[total_events.index.isin(on_target_events.index)]['id_event']\n",
    "\n",
    "## Sorting the result to find the most 'accurate' players\n",
    "most_accurate_players = on_target.dropna().sort_values(ascending=False)[:10]\n",
    "less_accurate_players = on_target.dropna().sort_values()[:10]\n",
    "\n",
    "sns.set_style(\"whitegrid\")\n",
    "## Plot the most accurate players chart\n",
    "fig, axs = plt.subplots(ncols=2, figsize=(15, 6))\n",
    "ax = sns.barplot(x = [j for j in range(0, len(most_accurate_players))], y=most_accurate_players.values, palette='Blues_d', ax=axs[0])\n",
    "ax.set_xticks([j for j in range(0, len(most_accurate_players))])\n",
    "ax.set_xticklabels(most_accurate_players.index, rotation=45)\n",
    "ax.set(xlabel = 'Players', ylabel = '# of attempts to target the goal', title = 'Most accurate players');\n",
    "\n",
    "## Plot the less accurate players chart\n",
    "ax = sns.barplot(x = [j for j in range(0, len(less_accurate_players))], y=less_accurate_players.values, palette='Blues_d', ax=axs[1])\n",
    "ax.set_xticks([j for j in range(0, len(less_accurate_players))])\n",
    "ax.set_xticklabels(less_accurate_players.index, rotation=45)\n",
    "ax.set(xlabel = 'Players', ylabel = '# of attempts to target the goal', title = 'Less accurate players');"
   ]
  },
  {
   "cell_type": "markdown",
   "metadata": {
    "_cell_guid": "b0860392-42ea-44be-9615-fbb69e25e408",
    "_uuid": "c95add3130c9b57aeea4aa567960b1556c432721"
   },
   "source": [
    "Above we show the 'more accurate' player and the 'less accurate' one.\n",
    "* 70% of Carlos Bacca's shots find the goal.\n",
    "* Lionel Messi shots on target 2 out of 3 times."
   ]
  },
  {
   "cell_type": "code",
   "execution_count": null,
   "metadata": {
    "_cell_guid": "702be121-9ed0-4d79-aabb-e516c18a7f69",
    "_uuid": "aba65caf810fd1c0fd1bf7a6dfbde3e9233a7f64"
   },
   "outputs": [],
   "source": [
    "import cufflinks as cf\n",
    "cf.go_offline()"
   ]
  },
  {
   "cell_type": "markdown",
   "metadata": {
    "_cell_guid": "764602e4-0b21-40c8-bde8-5d1ab12357e6",
    "_uuid": "a78ac4d55412e4d06e5548abc0ef9e102e6bcdad"
   },
   "source": [
    "### Shots blocked\n",
    "Player that **have their shot blocked** and players that **blocked the most shots**. In this section you'll see some top players in the 'shots blocked' category, which does not necessarily mean they're not precise when finding an opening to shot, but, in this case, it might just mean that they create a lot of opportunities to shot in a match, which certainly increase the probability to be blocked: they try more than the regular players. *To really check how precise is a player, it would be necessary to weight the number of shots they're blocked with the number of clear attempts they have!*"
   ]
  },
  {
   "cell_type": "code",
   "execution_count": null,
   "metadata": {
    "_cell_guid": "d308fe45-d0c0-4125-90d1-9055966b5a6c",
    "_kg_hide-input": true,
    "_uuid": "26dc53732817b31f84f880f54e8140e2ea98c083"
   },
   "outputs": [],
   "source": [
    "## Grouping players who had their shots blocked\n",
    "players_blocked = df_events[df_events['shot_outcome'] == 3].groupby('player').count().sort_values('id_event',\n",
    "                                                                                                  ascending=False)\n",
    "## Grouping players who have blocked the most shots\n",
    "players_blocked_the_most = df_events[df_events['shot_outcome'] == 3].groupby('player2').count().sort_values('id_event',\n",
    "                                                                                                            ascending=False)\n",
    "\n",
    "## Plotting the top 10 players that have the most shots blocked\n",
    "players_blocked[:10]['id_event'].iplot(kind='bar', yTitle='# of events',\n",
    "                                         title='Players that have their most shots blocked',\n",
    "             filename='cufflinks/categorical-bar-chart', color='#27AE60')"
   ]
  },
  {
   "cell_type": "markdown",
   "metadata": {
    "_cell_guid": "c8cf6e5d-dbfc-43a3-85dd-9aa94e77ebfe",
    "_uuid": "32b35749d5aec39b3cd7f990422585848afe3da1"
   },
   "source": [
    "### Important notes:\n",
    "* Lionel Messi and Cristiano Ronaldo are some examples from what has been previously explained. These players are the ones with the most attempts overall, so it's clear why they have also a considerable number of shots blocked.\n",
    "* Philippe Coutinho is not a player with a huge number of opportunities - compare to Messi and Cristiano Ronaldo - but he is well known for his long range shot abilities. That's why he is on this list: long range shots are more likely to be blocked because you have more players in front of you trying to disarm you.\n",
    "* Other factors that lead a player to have an attempt blocked must be investigated: wrong decision making, lack of ability, field conditions, oponent performance, etc.\n"
   ]
  },
  {
   "cell_type": "markdown",
   "metadata": {
    "_cell_guid": "46ac1803-9dae-44db-938e-7c97ab163e8e",
    "_uuid": "db1e49f2df321a0268a322b1b742a65c2eafbcfa"
   },
   "source": [
    "#### Players who blocked the most shots\n",
    "These players blocked the most shots from other players."
   ]
  },
  {
   "cell_type": "code",
   "execution_count": null,
   "metadata": {
    "_cell_guid": "ed450dfc-5a90-4dab-a6ba-341cab53de15",
    "_kg_hide-input": true,
    "_uuid": "fcef742e43b591cbbda4144f4a03f84cb5f78474"
   },
   "outputs": [],
   "source": [
    "## Players that blocked the most attempts\n",
    "players_blocked_the_most[:10]['id_event'].iplot(kind='bar', yTitle='# of events',\n",
    "                                         title='Players who blocked the most shots',\n",
    "             filename='cufflinks/categorical-bar-chart', color='#00CEC9')"
   ]
  },
  {
   "cell_type": "markdown",
   "metadata": {
    "_cell_guid": "71a51b23-a3f7-4bac-8e3e-65479cd6d5f6",
    "_uuid": "a199b347e78f544fe0bb3f2f84521d95fea2cc0a"
   },
   "source": [
    "* Christian Eriksen and Alexis Sanchez are the only players that appear in both lists. "
   ]
  },
  {
   "cell_type": "markdown",
   "metadata": {
    "_cell_guid": "16830ebb-2156-4ca5-afc1-a79e79f59c97",
    "_uuid": "dfb1369b44aab3e636afeca189cb8a0bcf8a8664"
   },
   "source": [
    "### Most goals from outside the box\n",
    "This section analyzes the players with the most goals from outside the box, long range shots."
   ]
  },
  {
   "cell_type": "code",
   "execution_count": null,
   "metadata": {
    "_cell_guid": "9c9d1477-aa1d-4076-95bd-cd4a9479440f",
    "_kg_hide-input": true,
    "_uuid": "78231d7267bb8dc4bc3ebc645a8d35b2e3a507ae"
   },
   "outputs": [],
   "source": [
    "## Most goals from outside the box\n",
    "long_range_goals = df_events[(df_events['location'] == 15) & \n",
    "         (df_events['is_goal'] == 1)].groupby('player').count().sort_values('id_event',\n",
    "                                                                           ascending=False)[:10]\n",
    "## Long range attempts (goals and not goals)\n",
    "long_range_attempts = df_events[(df_events['location'] == 15)].groupby('player').count().sort_values('id_event',\n",
    "                                                                           ascending=False)\n",
    "## Most goals from the long range\n",
    "long_range_goals['id_event'].iplot(kind='bar', yTitle='# of events',\n",
    "                                         title='Top long range scorers',\n",
    "             filename='cufflinks/categorical-bar-chart', color='#2D3436')"
   ]
  },
  {
   "cell_type": "code",
   "execution_count": null,
   "metadata": {
    "_cell_guid": "b67b933b-35d6-4b3b-aa71-cc6ce9cd1ea5",
    "_kg_hide-input": true,
    "_uuid": "3885a5a59ae33b671b7b1c98713c16037615ad45"
   },
   "outputs": [],
   "source": [
    "print('{} # of attempts: {}'.format('Yaya Toure', long_range_attempts.iloc[long_range_attempts.index.get_loc('yaya toure')]['id_event']))"
   ]
  },
  {
   "cell_type": "markdown",
   "metadata": {
    "_cell_guid": "d92d3996-8a05-4ed4-a7ec-6029ed24a3c4",
    "_uuid": "690d27ded3b2069e40dd55fb3215b7a1dd63c47e"
   },
   "source": [
    "* The number 1 scorer from outside of the box is not even in the top 10 of attemtps. To be exactly, Yaya Toure tried 107 times to score 9 goals, and ~8.5% average.\n",
    "* Even tough he is the top scorer from long range, he is just one goal ahead the other players."
   ]
  },
  {
   "cell_type": "markdown",
   "metadata": {
    "_cell_guid": "ed8938d1-e5b7-477c-a02c-0911800c1bb3",
    "_uuid": "7d7d108dc6b769187948ccb3963da7096994728e"
   },
   "source": [
    "### Body part - Breakdown by league\n",
    "Which body part is responsible for the majority of the goals in different leagues?"
   ]
  },
  {
   "cell_type": "code",
   "execution_count": null,
   "metadata": {
    "_cell_guid": "4608ae55-56b6-4589-8f4c-06e30565460a",
    "_kg_hide-input": true,
    "_uuid": "d9e4dfba39bc8db555ac49ba3288658ec28eb2a7"
   },
   "outputs": [],
   "source": [
    "## Copying original dataset\n",
    "df_body_part = df_events.copy()\n",
    "\n",
    "## Mapping dataframe bodypart to provided labels\n",
    "df_body_part['bodypart'] = df_body_part['bodypart'] .map(bodypart)\n",
    "\n",
    "## Filtering only the goal events\n",
    "df_body_part = df_body_part[df_body_part['is_goal'] == 1]\n",
    "\n",
    "## Setting custom style and plotting the chart\n",
    "sns.color_palette(\"bright\")\n",
    "sns.set(font_scale=1.0)\n",
    "sns.set_style(\"white\")\n",
    "g = sns.FacetGrid(df_body_part, col=\"bodypart\", col_wrap=4, sharey=True)\n",
    "g = g.map(plt.hist, 'league', bins=10, color=\"r\")\n",
    "g.set_xticklabels(rotation=45)\n",
    "g.set_xlabels('League')\n",
    "g.set_ylabels('# of events');"
   ]
  },
  {
   "cell_type": "markdown",
   "metadata": {
    "_cell_guid": "7e1864c1-8bd3-4b36-80e8-d53a06bd9747",
    "_uuid": "b575696556e8db28bc0fec5ab3c768f797cb0e86"
   },
   "source": [
    "* Left foot is the most scorer body part in La Liga.\n",
    "* Premier League has the record for Right Foot and Head body parts."
   ]
  },
  {
   "cell_type": "markdown",
   "metadata": {
    "_cell_guid": "1ba29fec-584c-4f3b-afae-a9857ffef378",
    "_uuid": "b2d1b696618bb4cc787eb761297e6d2176d298fd"
   },
   "source": [
    "### Body part - Breakdown by player\n",
    "Which players scored the most goals by body part?"
   ]
  },
  {
   "cell_type": "code",
   "execution_count": null,
   "metadata": {
    "_cell_guid": "4f4717d0-d1cd-488f-9dba-766420e0d8ae",
    "_kg_hide-input": true,
    "_uuid": "1d80bf7b8b37dcf20690d33bdf6fe95b4d9177d7"
   },
   "outputs": [],
   "source": [
    "## Copying the original dataset\n",
    "df_goals = df_events.copy()\n",
    "\n",
    "## Filtering goals events\n",
    "df_goals = df_goals[df_goals['is_goal'] == 1]\n",
    "\n",
    "## Goals with right foot\n",
    "right_foot = df_goals[df_goals['bodypart'] == 1].groupby('player').count().sort_values('id_event',\n",
    "                                                                          ascending=False)[:5]\n",
    "\n",
    "## Goals with left foot\n",
    "left_foot = df_goals[df_goals['bodypart'] == 2].groupby('player').count().sort_values('id_event',\n",
    "                                                                           ascending=False)[:5]\n",
    "\n",
    "## Goals with head\n",
    "head = df_goals[df_goals['bodypart'] == 3].groupby('player').count().sort_values('id_event',\n",
    "                                                                           ascending=False)[:5]\n",
    "\n",
    "## Most goals by bodypart\n",
    "fig, axs = plt.subplots(ncols=3, figsize=(15, 5), sharey=True)\n",
    "ax = sns.barplot(x = [j for j in range(0, len(right_foot['id_event']))],\n",
    "                 y=right_foot['id_event'].values, palette='Blues_r', ax=axs[0])\n",
    "ax.set_xticks([j for j in range(0, len(right_foot['id_event']))])\n",
    "ax.set_xticklabels(right_foot['event_team'].index, rotation=45)\n",
    "ax.set(xlabel = 'Players', ylabel = '# of goals', title = 'Right foot');\n",
    "\n",
    "ax = sns.barplot(x = [j for j in range(0, len(left_foot['id_event']))],\n",
    "                 y=left_foot['id_event'].values, palette='Blues_r', ax=axs[1])\n",
    "ax.set_xticks([j for j in range(0, len(left_foot['id_event']))])\n",
    "ax.set_xticklabels(left_foot['event_team'].index, rotation=45)\n",
    "ax.set(xlabel = 'Players', ylabel = '# of goals', title = 'Left foot');\n",
    "\n",
    "ax = sns.barplot(x = [j for j in range(0, len(head['id_event']))],\n",
    "                 y=head['id_event'].values, palette='Blues_r', ax=axs[2])\n",
    "ax.set_xticks([j for j in range(0, len(head['id_event']))])\n",
    "ax.set_xticklabels(head['event_team'].index, rotation=45)\n",
    "ax.set(xlabel = 'Players', ylabel = '# of goals', title = 'Head');"
   ]
  },
  {
   "cell_type": "markdown",
   "metadata": {
    "_cell_guid": "ff7f1d3e-f3d5-4b47-9fae-b68aca50b75f",
    "_uuid": "77d6e6b8a01f07b585fd76c1f1ba9ba76ff4c16a"
   },
   "source": [
    "* Cristiano Ronaldo is the leader right foot and head finisher. The left foot finisher, as you can guess, is Lionel Messi.\n",
    "* 4 out of 5 players from the left foot list play in La Liga (except for Paulo Dybala), which in part explains why La Liga is leader in left foot scorers among all other european leagues."
   ]
  },
  {
   "cell_type": "markdown",
   "metadata": {
    "_cell_guid": "7ea57fa7-2cad-4df4-8d51-503d40917edb",
    "_uuid": "5c61e47448a88e7719a7de9593f17f44698eccdd"
   },
   "source": [
    "### Assists\n",
    "What are the players with the most assists in all leagues?"
   ]
  },
  {
   "cell_type": "code",
   "execution_count": null,
   "metadata": {
    "_cell_guid": "7aa85621-1b4a-4531-8384-410e27dd4b3d",
    "_kg_hide-input": true,
    "_uuid": "94a5d57a13095077a6b8d3a85470eef72abb8f85"
   },
   "outputs": [],
   "source": [
    "## Grouping data by assists\n",
    "top_assists = df_events[(df_events['is_goal'] == 1) &\n",
    "         (df_events['player2'] != np.nan)].groupby('player2').count().sort_values('id_event',\n",
    "                                                                   ascending=False)[:10]\n",
    "\n",
    "## Plotting the players with the most assists\n",
    "top_assists['id_event'][:10].iplot(kind='bar', yTitle='# of assists', title='Top assists',\n",
    "             filename='cufflinks/categorical-bar-chart', color='#C70039')"
   ]
  },
  {
   "cell_type": "markdown",
   "metadata": {
    "_cell_guid": "f99cbe5c-9176-4152-ae00-e77ce7e6c627",
    "_uuid": "af536de9d1da9418d0494c431b1b5bf5048ecd0a"
   },
   "source": [
    "* **Premier League**: Kevin de Bruyne, Dimitri Payet, Cesc Fabregas, Mesut Ozil\n",
    "* **La Liga**: Lionel Messi, Luis Suarez\n",
    "* **Serie A**: Marek Hamsik, Miralem Pjanic\n",
    "* **League One**: Angel Di Maria\n",
    "* **Bundesliga**: Gonzalo Castro\n",
    "\n",
    "* La Liga is the only league with 2 players from the same team in the top #10"
   ]
  },
  {
   "cell_type": "markdown",
   "metadata": {
    "_cell_guid": "7a3b4b19-ff37-4771-9749-5f933b1d16a0",
    "_uuid": "ea1c4b0106653cf879278c8a7a362819ff7d2222"
   },
   "source": [
    "#### Showing the same data with a different chart\n",
    "Here we're using a kind o scatter plot to see the same relationship with a different visual. Also, the color indicates sequential values, from lighter to darker."
   ]
  },
  {
   "cell_type": "code",
   "execution_count": null,
   "metadata": {
    "_cell_guid": "11de1c97-cbcf-488c-adca-264aeedbed91",
    "_kg_hide-input": true,
    "_uuid": "4d94c9b173bf499ba1cf3815c68b9f718346cad5"
   },
   "outputs": [],
   "source": [
    "## Setting style\n",
    "sns.set_style(\"whitegrid\")\n",
    "\n",
    "## Setting figure\n",
    "plt.figure(figsize=(12, 5))\n",
    "\n",
    "## Plotting data\n",
    "ax = sns.stripplot(top_assists.sort_values('id_event').index, top_assists.sort_values('id_event')['id_event'].values, \n",
    "                palette='Blues', size=15, jitter=True,\n",
    "                linewidth=1)\n",
    "ax.set(ylabel=\"# of assists\",\n",
    "       xlabel=\"Players\", title='Players with the most assists');\n",
    "ax.set_xticklabels(top_assists.sort_values('id_event').index, rotation=45);"
   ]
  },
  {
   "cell_type": "markdown",
   "metadata": {
    "_cell_guid": "929e9435-41fa-4d75-8297-95670d510935",
    "_uuid": "da8418c9d02198b9226b394a2d1750dbd8f8e59a"
   },
   "source": [
    "### Goals distribution\n",
    "What are the goals distribution by month in all Europe leagues?"
   ]
  },
  {
   "cell_type": "code",
   "execution_count": null,
   "metadata": {
    "_cell_guid": "f202473d-72ec-4316-a98a-6948dc566a32",
    "_kg_hide-input": true,
    "_uuid": "1cdfa0f3b34edd32410916c57b682984a1fe486c"
   },
   "outputs": [],
   "source": [
    "## Copying original dataet\n",
    "df_events_distribution = df_events.copy()\n",
    "\n",
    "## Filtering the goals events\n",
    "df_events_distribution = df_events_distribution[df_events_distribution['is_goal']==1]\n",
    "## Converting the data column data datetime\n",
    "df_events_distribution['date'] = pd.to_datetime(df_events_distribution['date'])\n",
    "\n",
    "## Extracting day, month, and year from provided date and creating a exclusive column for each\n",
    "df_events_distribution['day'] = df_events_distribution['date'].apply(lambda x: x.day)\n",
    "df_events_distribution['month'] = df_events_distribution['date'].apply(lambda x: x.month)\n",
    "df_events_distribution['year'] = df_events_distribution['date'].apply(lambda x: x.year)\n",
    "\n",
    "## Extracting only months that have events (Some months don't have occorencies beacause of the season break)\n",
    "sorted_indexes = sorted(df_events_distribution['month'].unique())\n",
    "\n",
    "## Month labels\n",
    "months =['Jan', 'Feb', 'Mar', 'Apr', 'May', 'Jun', 'Jul', 'Aug', 'Sep', 'Oct', 'Nov', 'Dec']\n",
    "\n",
    "## Overall mean by month\n",
    "total_mean = df_events_distribution.groupby('month').count().mean()['id_event']\n",
    "\n",
    "## Plotting the results\n",
    "sns.set_style('dark')\n",
    "plt.figure(figsize=(15, 5))\n",
    "plt.bar(sorted_indexes, \n",
    "        df_events_distribution.groupby('month').count()['id_event'], alpha=0.6,\n",
    "       color='skyblue')\n",
    "plt.plot(sorted_indexes, \n",
    "        df_events_distribution.groupby('month').count()['id_event'], color='darkred', marker='o',\n",
    "        linewidth=4, markersize=10)\n",
    "plt.axvspan(6, 7, alpha=0.5, color='azure')\n",
    "plt.xticks([item for item in range(1, 13)], months);\n",
    "plt.ylabel('# of gols')\n",
    "plt.title('Goals distribution by month in Europe');"
   ]
  },
  {
   "cell_type": "markdown",
   "metadata": {
    "_cell_guid": "9e020ff2-ec75-4ffb-9688-ff1929dc61e1",
    "_uuid": "6c647f7a0023a3e2cfb157e3a34ee8ea29fdca4e"
   },
   "source": [
    "* It seems that **September**, **October** and **December** are very exciting months to watch european football. \n",
    "* This data may be explained by the fact that the major leagues are returning from break on August (that's why this month has a low performance), and the clubs seem to need one month to recover and achieve their regular performance.\n",
    "* Other external factors might impact the overall number of goals, which will be explored in the next section."
   ]
  },
  {
   "cell_type": "markdown",
   "metadata": {
    "_cell_guid": "0db0dd51-f33e-4d06-8905-fe46c36154ba",
    "_uuid": "a5a859d239c21fea4e1f9e07c103abc088d1ab20"
   },
   "source": [
    "### Goals distribution - breakdown by league\n",
    "What is the breakdown by league? Are all leagues sharing the same pattern?"
   ]
  },
  {
   "cell_type": "code",
   "execution_count": null,
   "metadata": {
    "_cell_guid": "b5aadf3c-5b0a-4a78-b68e-5f5c0411f9de",
    "_kg_hide-input": true,
    "_uuid": "e61af790bcc454f30f2a8e2cdb36a357ab12ac52"
   },
   "outputs": [],
   "source": [
    "## Goal distribution by each league\n",
    "premier_league_events = df_events_distribution[df_events_distribution['league'] == 'Premier League']\n",
    "la_liga_events = df_events_distribution[df_events_distribution['league'] == 'La Liga']\n",
    "league_one_events = df_events_distribution[df_events_distribution['league'] == 'League One']\n",
    "serie_a_events = df_events_distribution[df_events_distribution['league'] == 'Serie A']\n",
    "bundesliga_events = df_events_distribution[df_events_distribution['league'] == 'Bundesliga']\n",
    "\n",
    "## Mean values for each league\n",
    "pl_mean = premier_league_events.groupby('month').count().mean()['id_event']\n",
    "ll_mean = la_liga_events.groupby('month').count().mean()['id_event']\n",
    "lo_mean = league_one_events.groupby('month').count().mean()['id_event']\n",
    "sa_mean = serie_a_events.groupby('month').count().mean()['id_event']\n",
    "bl_mean = bundesliga_events.groupby('month').count().mean()['id_event']\n",
    "\n",
    "## Random color to use in charts\n",
    "colors = ['olivedrab', 'seagreen', 'lightseagreen', 'paleturquoise',\n",
    "'darkcyan', 'deepskyblue', 'royalblue', 'darkslategray',\n",
    "'cadetblue', 'dodgerblue', 'lightskyblue', 'teal']\n",
    "\n",
    "## Plotting the distribution by league\n",
    "sns.set_style('ticks')\n",
    "fig, axs = plt.subplots(nrows=3, ncols=2, figsize=(15, 12))\n",
    "\n",
    "axs[0][0].plot(premier_league_events.groupby('month').count()['id_event'], lw=4, color=random.choice(colors));\n",
    "## premier league mean\n",
    "axs[0][0].axhline(y=pl_mean, color='r', linestyle='-', alpha=0.5)\n",
    "axs[0][0].set_xlim(1, 12);\n",
    "axs[0][0].set_xticks([item for item in range(1, 13)])\n",
    "axs[0][0].set_xticklabels(months);\n",
    "axs[0][0].set_ylabel('# of goals')\n",
    "axs[0][0].set_title('Premier League goals distribution')\n",
    "\n",
    "axs[0][1].plot(la_liga_events.groupby('month').count()['id_event'], lw=4, color=random.choice(colors));\n",
    "## la liga mean\n",
    "axs[0][1].axhline(y=ll_mean, color='r', linestyle='-', alpha=0.5)\n",
    "axs[0][1].set_xlim(1, 12);\n",
    "axs[0][1].set_xticks([item for item in range(1, 13)])\n",
    "axs[0][1].set_xticklabels(months);\n",
    "axs[0][1].set_ylabel('# of goals')\n",
    "axs[0][1].set_title('La Liga goals distribution')\n",
    "\n",
    "axs[1][0].plot(league_one_events.groupby('month').count()['id_event'], lw=4, color=random.choice(colors));\n",
    "## league one mean\n",
    "axs[1][0].axhline(y=lo_mean, color='r', linestyle='-', alpha=0.5)\n",
    "axs[1][0].set_xlim(1, 12);\n",
    "axs[1][0].set_xticks([item for item in range(1, 13)])\n",
    "axs[1][0].set_xticklabels(months);\n",
    "axs[1][0].set_ylabel('# of goals')\n",
    "axs[1][0].set_title('League One goals distribution')\n",
    "\n",
    "axs[1][1].plot(serie_a_events.groupby('month').count()['id_event'], lw=4, color=random.choice(colors));\n",
    "## serie a league\n",
    "axs[1][1].axhline(y=sa_mean, color='r', linestyle='-', alpha=0.5)\n",
    "axs[1][1].set_xlim(1, 12);\n",
    "axs[1][1].set_xticks([item for item in range(1, 13)])\n",
    "axs[1][1].set_xticklabels(months);\n",
    "axs[1][1].set_ylabel('# of goals')\n",
    "axs[1][1].set_title('Serie A goals distribution')\n",
    "\n",
    "axs[2][0].plot(bundesliga_events.groupby('month').count()['id_event'], lw=4, color=random.choice(colors));\n",
    "## bundesliga mean\n",
    "axs[2][0].axhline(y=bl_mean, color='r', linestyle='-', alpha=0.5)\n",
    "axs[2][0].set_xlim(1, 12);\n",
    "axs[2][0].set_xticks([item for item in range(1, 13)])\n",
    "axs[2][0].set_xticklabels(months);\n",
    "axs[2][0].set_ylabel('# of goals')\n",
    "axs[2][0].set_title('Bundesliga goals distribution')\n",
    "\n",
    "axs[2][1].axis('off');\n",
    "plt.tight_layout()"
   ]
  },
  {
   "cell_type": "markdown",
   "metadata": {
    "_cell_guid": "6fa64c1f-b6da-4d2d-8106-79a7a2852301",
    "_uuid": "f30429a1a437d9eb8e02071a19fd3ed2b7f70cb2"
   },
   "source": [
    "#### Plotting the same data using Plotly visuals\n",
    "We are plotting the goals distribution by league using plotly linechart. This chart is interesting because of its interactivity. We can check/unckeck variables on-damand. So, for example, if I don't want to see La Liga goals distribution, I might just unmark La Liga and its data will not be drawn."
   ]
  },
  {
   "cell_type": "code",
   "execution_count": null,
   "metadata": {
    "_cell_guid": "ca3dbd38-8ccb-4033-8912-6b6f3923c26d",
    "_kg_hide-input": true,
    "_uuid": "85b2498b77b090bb57a821c44d02788b6d75cc88"
   },
   "outputs": [],
   "source": [
    "## Plotly version of the same visual\n",
    "\n",
    "## Grouping event by month\n",
    "grouped_monthly_distribution = df_events_distribution.groupby('month').count()\n",
    "\n",
    "## Excluding months with no events\n",
    "active_months = ['Jan', 'Feb', 'Mar', 'Apr', 'May', 'Aug', 'Sep', 'Oct', 'Nov', 'Dec']\n",
    "\n",
    "## Plotting La liga data\n",
    "la_liga = go.Scatter(\n",
    "                x=active_months,\n",
    "                y=la_liga_events.groupby('month').count()['id_event'].values,\n",
    "                name = \"La Liga\",\n",
    "                line = dict(color = '#FF5733'),\n",
    "                opacity = 0.8)\n",
    "\n",
    "## Plot Bundesliga data\n",
    "bundesliga = go.Scatter(\n",
    "                x=active_months,\n",
    "                y=bundesliga_events.groupby('month').count()['id_event'].values,\n",
    "                name = \"Bundesliga\",\n",
    "                line = dict(color = '#FFC300'),\n",
    "                opacity = 0.8)\n",
    "\n",
    "## Plotting League One data\n",
    "league_one = go.Scatter(\n",
    "                x=active_months,\n",
    "                y=league_one_events.groupby('month').count()['id_event'].values,\n",
    "                name = \"League One\",\n",
    "                line = dict(color = '#17BECF'),\n",
    "                opacity = 0.8)\n",
    "\n",
    "## Plotting Serie A data\n",
    "serie_a = go.Scatter(\n",
    "                x=active_months,\n",
    "                y=serie_a_events.groupby('month').count()['id_event'].values,\n",
    "                name = \"Serie A\",\n",
    "                line = dict(color = '#75FF33'),\n",
    "                opacity = 0.8)\n",
    "\n",
    "## Plotting Premier League data\n",
    "premier_league = go.Scatter(\n",
    "                x=active_months,\n",
    "                y=premier_league_events.groupby('month').count()['id_event'].values,\n",
    "                name = \"Premier League\",\n",
    "                line = dict(color = '#C70039'),\n",
    "                opacity = 0.8)\n",
    "\n",
    "data = [la_liga, bundesliga, league_one, serie_a, premier_league]\n",
    "\n",
    "layout = dict(\n",
    "    title = \"Goals distribution by month\",\n",
    "     xaxis = dict(\n",
    "        showticklabels=True)\n",
    ")\n",
    "\n",
    "fig = dict(data=data, layout=layout)\n",
    "py.iplot(fig, filename = \"Monthly goals distribution in Europe\")"
   ]
  },
  {
   "cell_type": "markdown",
   "metadata": {
    "_cell_guid": "69125c24-1888-4a16-b498-4fab1701d4a1",
    "_uuid": "e4e7bc77412bf70478943d370cc0a3e430ddd828"
   },
   "source": [
    "### Champions League and Europe League calendars (Other European Competitions)\n",
    "\n",
    "* It seems that September, October and December are very exciting months to watch european football. \n",
    "* It also interesting that on February and March we have a slight drop on the number of goals on the main leagues. That could be caused by a lot of factors, but surprinsgly this is also the month that important european leagues enter their knockout stage: Europe League and Champions League. Due to this, several teams play the domestic league with their alternative players. Other than that, other national competitions take place throughout the year, which might impact in the domestic league overall performance.\n",
    "* Also, May has a huge drop on goals: this is the last month of the season for most leagues, and most leagues play until mid-May\n",
    "* La Liga has the most number of goals in 5 out of 10 months.\n",
    "* Premier League (which is considered a very exciting league) has only the top goals in 2 months. This is fine, taking into account the number of goal does not necessarily imply that a league is more competitive than others.\n",
    "* Serie A has the other 3 months.\n",
    "* La Liga has a huge drop in the # of goals in **November**, while Premier League has a huge increase in **December**."
   ]
  },
  {
   "cell_type": "markdown",
   "metadata": {
    "_cell_guid": "3df7e8b1-97c4-48d3-9889-826bd05fcf02",
    "_uuid": "647c2e443db520fdef758fd586236d806caaba36"
   },
   "source": [
    "### Goals distribution - Breakdown by minutes\n",
    "In which minutes of the matches are more likely to score a goal?"
   ]
  },
  {
   "cell_type": "code",
   "execution_count": null,
   "metadata": {
    "_cell_guid": "f4340353-513c-4591-b275-b90e7a64e6be",
    "_kg_hide-input": true,
    "_uuid": "62c5235fe4a3c969f28de2513c57e06bcba28be4"
   },
   "outputs": [],
   "source": [
    "## Copying original dataset\n",
    "df_distribution_minutes = df_events.copy()\n",
    "\n",
    "## Goals distribution by minutes\n",
    "df_distribution_minutes = df_distribution_minutes[(df_distribution_minutes['is_goal'] == 1) &\n",
    "                                                ((df_distribution_minutes['time'] >=0 &\n",
    "                                                (df_distribution_minutes['time'] <=90)))]\n",
    "## Couting the goals by minutes\n",
    "group_goals_by_minutes = df_distribution_minutes.groupby('time').count()\n",
    "\n",
    "## Plotting using plotly\n",
    "group_goals_by_minutes['id_event'].iplot(kind='bar', yTitle='# of goals',\n",
    "                                         title='Goals distribution by minutes',\n",
    "             filename='cufflinks/categorical-bar-chart', color='#255818')"
   ]
  },
  {
   "cell_type": "markdown",
   "metadata": {
    "_cell_guid": "c0592218-6a61-4a7b-825f-2ff1360706fa",
    "_uuid": "be578486063fefae6bbf5c796feda1626916606c"
   },
   "source": [
    "* It seems that the teams are more likely to score at the end of each half of the match, which the mojority of the goals scored at the minute 90'."
   ]
  },
  {
   "cell_type": "markdown",
   "metadata": {
    "_cell_guid": "7eb09031-f618-4461-84f7-7bf9933a42ec",
    "_uuid": "840402513fdea7ef9077e42d0cc8deb456f9d829"
   },
   "source": [
    "### Events distribution by minutes in matches\n",
    "Let's analyze when the events happened in the matches."
   ]
  },
  {
   "cell_type": "code",
   "execution_count": null,
   "metadata": {
    "_cell_guid": "5ee8bd88-3b04-4717-803b-eb6cab1a58b6",
    "_kg_hide-input": true,
    "_uuid": "aa12a41a57781234f0289372aaaa6001ec6d2218"
   },
   "outputs": [],
   "source": [
    "## Copying original data\n",
    "df_event_type_distribution_minutes = df_events.copy()\n",
    "\n",
    "## Grouped data function for events distribution in matches\n",
    "def get_event_type_df(event_type):\n",
    "    \"\"\" Function to return grouped data for a specific event type, passed as parameter\n",
    "        get_event_type_df(event_type) -> dataframe \n",
    "    \"\"\"\n",
    "    return df_event_type_distribution_minutes[df_event_type_distribution_minutes['event_type'] == event_type].groupby('time').count()\n",
    "\n",
    "## Setting dark style\n",
    "sns.set_style('darkgrid')\n",
    "fig, axs = plt.subplots(nrows=6, ncols=1, figsize=(12, 15), sharex=True)\n",
    "\n",
    "## Custom colors\n",
    "colors = ['darkgreen', 'royalblue', 'dimgray', 'yellow', 'yellow', 'darkred']\n",
    "## Event titles\n",
    "titles = ['Attempt', 'Corner', 'Foul', 'Yellow Card', '2nd Yellow Card', 'Red Card']\n",
    "\n",
    "## Plotting events\n",
    "for item in range(0, 6):\n",
    "    ax = sns.barplot(x = [j for j in range(0, len(get_event_type_df(item+1)['id_event']))],\n",
    "                 y=get_event_type_df(item+1)['id_event'].values, color=colors[item], ax=axs[item])\n",
    "    ax.set_xticks([j for j in range(0, len(get_event_type_df(item+1)['id_event']), 5)])\n",
    "    ax.set_xticklabels(([(str(i) + \"'\") for i in range(0, len(get_event_type_df(item+1)['id_event']), 5)]))\n",
    "    ax.set(xlabel = 'Minute of the match', ylabel = '# of events', title = titles[item]);\n",
    "\n",
    "plt.tight_layout()"
   ]
  },
  {
   "cell_type": "markdown",
   "metadata": {
    "_cell_guid": "e784d613-a82e-44ae-84c5-9a9c098298aa",
    "_uuid": "b94dd5afb20953e2f68c8920198290cd705d9349"
   },
   "source": [
    "* Attempt, Corner and Fouls have similar distribution to the goals distribution, which makes sense, once these sort of events lead to more goals.\n",
    "* Red cards are more likely to happen at the minute 87' of the match.\n",
    "* It's more likely to receive the second yellow card in the first half of the match.\n"
   ]
  },
  {
   "cell_type": "markdown",
   "metadata": {
    "_cell_guid": "2b202fb4-91d3-4596-87bf-d6a9138b25ba",
    "_uuid": "c112d963993d270aed37c5cce5232c96f703193b"
   },
   "source": [
    "### Goals distribution - Breakdown by season\n",
    "Minutes when the goals occured in different seasons. Excluding the 2017 season because of the data is not consistent for this year. "
   ]
  },
  {
   "cell_type": "code",
   "execution_count": null,
   "metadata": {
    "_cell_guid": "ce2eddaf-7d47-46fb-81e5-a58c50ad8731",
    "_kg_hide-input": true,
    "_uuid": "a8f91895c0b9efa63d6ea9c0ce82769ce698916e"
   },
   "outputs": [],
   "source": [
    "## Goals distribution by year\n",
    "goals_dist_year = df_events_distribution.groupby(['time', 'season'], as_index=False).count()\n",
    "\n",
    "## Breaking down by season\n",
    "season_2015 = goals_dist_year[goals_dist_year['season'] == 2015]\n",
    "season_2016 = goals_dist_year[goals_dist_year['season'] == 2016]\n",
    "## The dataset does not contain all the data for the 2017 season. For this reason, we're excluding it \n",
    "## to keep the consistency\n",
    "season_2017 = goals_dist_year[goals_dist_year['season'] == 2017]\n",
    "\n",
    "## Plotting data\n",
    "\n",
    "fig = {\n",
    "    'data': [\n",
    "        {'x': season_2015['time'].values,\n",
    "         'y': season_2015['id_event'].values, 'mode': 'markers', 'name': 'Season 2015'},\n",
    "        {'x': season_2016['time'].values,\n",
    "         'y': season_2016['id_event'].values, 'mode': 'markers', 'name': 'Season 2016'}        \n",
    "    ],\n",
    "    'layout': {\n",
    "        'xaxis': {'title': 'Minute of the match'},\n",
    "        'yaxis': {'title': \"# of goals\"}\n",
    "    }\n",
    "}\n",
    "py.iplot(fig, filename='cufflinks/multiple-scatter')"
   ]
  },
  {
   "cell_type": "markdown",
   "metadata": {
    "_cell_guid": "83828c42-d3aa-43fd-aaa1-5b8b07919dc1",
    "_uuid": "f336ae6261d2be4f2fd78e7380f14cfb578a3d63"
   },
   "source": [
    "### Assists resulting in goals\n",
    "Distribution of the assisting methods resulting in goals"
   ]
  },
  {
   "cell_type": "code",
   "execution_count": null,
   "metadata": {
    "_cell_guid": "aba5f30f-84e6-4bd3-bc68-640cabf55bb0",
    "_kg_hide-input": true,
    "_uuid": "62a9028e76118fbbcdb1bfa6c6e0462872e73f7b"
   },
   "outputs": [],
   "source": [
    "## Grouping by assist method\n",
    "which_assist = df_events[df_events['is_goal'] == 1].groupby('assist_method').count().sort_values('id_event',\n",
    "                                                                                 ascending=False)\n",
    "## Mapping index numbers to labels\n",
    "which_assist.index = assist_method\n",
    "\n",
    "## Plotting data\n",
    "which_assist['id_event'].iplot(kind='bar', yTitle='# of goals',\n",
    "                                         title='Goals distribution by minutes',\n",
    "             filename='cufflinks/categorical-bar-chart', color='#31255A')"
   ]
  },
  {
   "cell_type": "markdown",
   "metadata": {
    "_cell_guid": "426e0e84-2e2b-4f87-9f9b-487598a6c28f",
    "_uuid": "1d68c525df62cc19ef62a87ac3774d0a2c0860a4"
   },
   "source": [
    "* Goals with no assistance is the most commom type\n",
    "* Through ball is the most difficult/inefficient method to help other players score a goal."
   ]
  },
  {
   "cell_type": "markdown",
   "metadata": {
    "_cell_guid": "db0b0f14-e66c-4bcd-bae5-3bd9ee1fad44",
    "_uuid": "6bdc42233086a19b8ebd1cf8b3e223a0975c66eb"
   },
   "source": [
    "### Situation where goals occurred\n",
    "This section explores in which situations are most likely to score a goal."
   ]
  },
  {
   "cell_type": "code",
   "execution_count": null,
   "metadata": {
    "_cell_guid": "9a305264-3f53-47f4-9e97-ec24b1df4107",
    "_kg_hide-input": true,
    "_uuid": "31c9a058f9422a1bde626e5d1366fdd3accc428a"
   },
   "outputs": [],
   "source": [
    "## Grouping data by sitation where a goal occurred\n",
    "which_situation = df_events[df_events['is_goal'] == 1].groupby('situation').count().sort_values('id_event',\n",
    "                                                                                 ascending=False)\n",
    "## Mapping index to labels\n",
    "which_situation.index = situation\n",
    "\n",
    "## Plotting data\n",
    "which_situation['id_event'].iplot(kind='bar', yTitle='# of goals',\n",
    "                                         title='Situation where goals occurred',\n",
    "             filename='cufflinks/categorical-bar-chart', color='#07B0E8')"
   ]
  },
  {
   "cell_type": "markdown",
   "metadata": {
    "_cell_guid": "bd6dd57e-dffc-4400-9e88-23ef8a596fea",
    "_uuid": "fbdae79d88bb1b7369fff074ac5f6d65cc2d3475"
   },
   "source": [
    "* Open play is by far the most commom situation.\n",
    "* Goals from Free kick are really rare to happen, even more than corner."
   ]
  },
  {
   "cell_type": "markdown",
   "metadata": {
    "_cell_guid": "66776efd-7df9-4dfd-9bd3-d3cb6e911624",
    "_uuid": "b5a78725b26034080e37909d64325c3209674c2a"
   },
   "source": [
    "### Fouls distribution by league\n",
    "Breaking down the fouls statistics by league."
   ]
  },
  {
   "cell_type": "code",
   "execution_count": null,
   "metadata": {
    "_cell_guid": "64988166-921c-4702-a5a3-c6d1d4070839",
    "_kg_hide-input": true,
    "_uuid": "ad0585f199d6e8c12d5f0aa1a8d11799077d9dcc"
   },
   "outputs": [],
   "source": [
    "## Filtering data by fouls\n",
    "df_fouls_which_league = df_events[df_events['event_type'] == 3]\n",
    "\n",
    "## Grouping by league\n",
    "df_fouls_which_league = df_fouls_which_league.groupby('league').count().sort_values('id_event',\n",
    "                                                           ascending=True)\n",
    "\n",
    "## Plotting data\n",
    "df_fouls_which_league['id_event'].iplot(kind='bar', yTitle='# of fouls',\n",
    "                                         title='Number of fouls per league',\n",
    "             filename='cufflinks/categorical-bar-chart', color='#07B0E8')"
   ]
  },
  {
   "cell_type": "markdown",
   "metadata": {
    "_cell_guid": "dc80d9bb-dd27-4cd1-93b4-b9530b0dfd4e",
    "_uuid": "cd9d695e53a0c15f9ee4d73a4483cf8fa4b1f178"
   },
   "source": [
    "* Premier legaue is well known to have \"fast pace\" matches, which might explain the fewer number of fouls."
   ]
  },
  {
   "cell_type": "markdown",
   "metadata": {
    "_cell_guid": "8da72894-c104-4bb9-8833-68eccb8f366f",
    "_uuid": "f5b16aba48397b4899bc5743729fc74791bf59fc"
   },
   "source": [
    "### Cards\n",
    "In this section we'll analyze the cards distribution by league. "
   ]
  },
  {
   "cell_type": "code",
   "execution_count": null,
   "metadata": {
    "_cell_guid": "7cdb4131-4c0d-4305-b670-16bfdf22c47c",
    "_kg_hide-input": true,
    "_uuid": "46210b2d0a93527cecdd15a1cf0222742cacb6ab"
   },
   "outputs": [],
   "source": [
    "# Filtering data by cards\n",
    "df_cards = df_events[(df_events['event_type'] == 4) |\n",
    "                     (df_events['event_type'] == 5) |\n",
    "                     (df_events['event_type'] == 6)]\n",
    "\n",
    "## Grouping data\n",
    "grouped_card_events = df_cards.groupby(['league', 'event_type'],\n",
    "                                       as_index=False).count().sort_values('id_event',\n",
    "                                                                           ascending=True)\n",
    "## Creating a new dataframe to group the results\n",
    "cards = pd.DataFrame()\n",
    "\n",
    "## Results for each card type\n",
    "yellow_cards = grouped_card_events[grouped_card_events['event_type'] == 4][['league', 'id_event']].sort_index()\n",
    "second_yellow_card = grouped_card_events[grouped_card_events['event_type'] == 5][['league', 'id_event']].sort_index()\n",
    "red_cards = grouped_card_events[grouped_card_events['event_type'] == 6][['league', 'id_event']].sort_index()\n",
    "\n",
    "## Creating dataframe column to each result\n",
    "cards['Yellow card'] = yellow_cards['id_event'].values\n",
    "cards['Second yellow card'] = second_yellow_card['id_event'].values\n",
    "cards['Red card'] = red_cards['id_event'].values\n",
    "\n",
    "## Mapping index to labels\n",
    "cards.index = yellow_cards['league'].values\n",
    "\n",
    "## Plotting the results\n",
    "cards.iplot(kind='barh', yTitle='# of cards',\n",
    "                                         title='Number of cards per league',\n",
    "             filename='cufflinks/categorical-bar-chart', colors = ['#FCEA53', '#FEE300',\n",
    "                                                                  '#DF0505'])"
   ]
  },
  {
   "cell_type": "markdown",
   "metadata": {
    "_cell_guid": "524cdc97-804a-469a-b7e7-3b72dd1fa629",
    "_uuid": "50607608276006d4ca631b5142116dc5e0513846"
   },
   "source": [
    "### Some important information:\n",
    "* Serie A and La Liga are the top leagues which give yellow cards\n",
    "* Direct red card is more common than second yellow card in all leagues, which might be an indicator of: Referees are less likely to give the second yellow card , players \"take it easy\" after receiving the first yellow card, or players are substituted after they receive the second card."
   ]
  },
  {
   "cell_type": "markdown",
   "metadata": {
    "_cell_guid": "81d4b435-4c77-48b5-bbe5-57df9c86cb90",
    "_uuid": "90a7b2799b893b5e748e7e194d458cd6fea0819d"
   },
   "source": [
    "## Summary\n",
    "\n",
    "* **Lionel Messi** is the second most offensive player, the player with the most assists, and the most decisive player as the player who scored more goals in the last minutes of matches.\n",
    "\n",
    "* **Cristiano Ronaldo** is the player with the most offensive player, the player with the most goals with Right Foot and Head, and is one the players with the most goals from long range.\n",
    "\n",
    "* **Barcelona** and **Real Madrid** are: the most offensive teams and the teams which scored the most last minute goals.\n",
    "\n",
    "* **Barcelona** is the only team with 2 player in the top 10 **most offensive players** and top 10 players with **the most assists.**\n",
    "\n",
    "* **Luis Suarez** is the second most effective player and the 4th with the most assists.\n",
    "\n",
    "* **La Liga** is the league with the higher number of months with the most goals: 5.\n",
    "\n",
    "* **Premier League** is the league with the least number of fouls and the second with the fewer number of yellow cards.\n",
    "\n",
    "* **Direct red cards** are more likely to happen than **second yellow cards**.\n",
    "\n",
    "* Other players like **Alexandre Lacazette**, **Christian Eriksen** and **Alexis Sanchez** have great stats too. \n",
    "\n",
    "Exploring data for other competitions would draw a better picture of the european football, but domestic leagues can be a good indicator.\n",
    "\n",
    "Many other questions can be answered with this data, we focused on a few. I've tried to explore different libraries and charts to present the data to make this notebook very diverse. Feel free to make any suggestions.\n"
   ]
  }
 ],
 "metadata": {
  "kernelspec": {
   "display_name": "Python 3",
   "language": "python",
   "name": "python3"
  },
  "language_info": {
   "codemirror_mode": {
    "name": "ipython",
    "version": 3
   },
   "file_extension": ".py",
   "mimetype": "text/x-python",
   "name": "python",
   "nbconvert_exporter": "python",
   "pygments_lexer": "ipython3",
   "version": "3.6.6"
  }
 },
 "nbformat": 4,
 "nbformat_minor": 2
}
